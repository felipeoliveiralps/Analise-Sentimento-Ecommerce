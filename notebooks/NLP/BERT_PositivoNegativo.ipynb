{
  "cells": [
    {
      "cell_type": "markdown",
      "metadata": {
        "id": "view-in-github",
        "colab_type": "text"
      },
      "source": [
        "<a href=\"https://colab.research.google.com/github/felipeoliveiralps/Analise-Sentimento-Ecommerce/blob/master/notebooks/NLP/BERT_PositivoNegativo.ipynb\" target=\"_parent\"><img src=\"https://colab.research.google.com/assets/colab-badge.svg\" alt=\"Open In Colab\"/></a>"
      ]
    },
    {
      "cell_type": "markdown",
      "id": "2d39119f",
      "metadata": {
        "id": "2d39119f"
      },
      "source": [
        "**1.0 Carregando dataset**"
      ]
    },
    {
      "cell_type": "code",
      "execution_count": null,
      "id": "2b267ba2",
      "metadata": {
        "id": "2b267ba2"
      },
      "outputs": [],
      "source": [
        "import pandas as pd\n",
        "dataSemStopWords = pd.read_csv('../../datasets/dataSemStopWords.csv', engine='python')\n"
      ]
    },
    {
      "cell_type": "markdown",
      "source": [
        "**2.0 Estamos com um Problema! (Positivo vs. Negativo)**\n",
        "\n",
        "* Como ja visto, o dataset que pré-processei anteriormente contém a regra de negócio completa, com as três classes de sentimento: positivo, neutro e negativo. No entanto, o objetivo deste notebook específico é treinar um modelo BERT focado em uma análise de sentimento bipolar, ou seja, capaz de diferenciar apenas comentários claramente positivos dos negativos.\n",
        "\n",
        "* Para garantir que o modelo aprenda os padrões distintivos dessas duas classes sem a interferência ou o \"ruído\" dos comentários neutros, irei removê-los completamente. Essa simplificação do problema permite que o modelo se especialize em sua tarefa, potencializando sua performance na distinção dos dois polos de sentimento.\n",
        "\n",
        "* O código a seguir executa essa filtragem, excluindo todas as avaliações com nota 3. Adicionalmente, ele converte a coluna de texto para o tipo string para garantir a compatibilidade com as ferramentas de modelagem."
      ],
      "metadata": {
        "id": "i-drMhk7eamT"
      },
      "id": "i-drMhk7eamT"
    },
    {
      "cell_type": "code",
      "source": [
        "dataSemStopWords['feedback'] = dataSemStopWords.apply(lambda x: 1 if x['rating'] >= 3 else 0, axis=1)\n"
      ],
      "metadata": {
        "id": "Ji3A9QLxkK4L"
      },
      "id": "Ji3A9QLxkK4L",
      "execution_count": null,
      "outputs": []
    },
    {
      "cell_type": "code",
      "source": [
        "dataSemStopWords = dataSemStopWords[dataSemStopWords['rating'] != 3]"
      ],
      "metadata": {
        "id": "JBD1oDJqlHAb"
      },
      "id": "JBD1oDJqlHAb",
      "execution_count": null,
      "outputs": []
    },
    {
      "cell_type": "code",
      "source": [
        "dataSemStopWords['texto_lematizado'] = dataSemStopWords['texto_lematizado'].astype(str)\n"
      ],
      "metadata": {
        "id": "Ius7Uxjrl9tC"
      },
      "id": "Ius7Uxjrl9tC",
      "execution_count": null,
      "outputs": []
    },
    {
      "cell_type": "code",
      "source": [
        "dataSemStopWords"
      ],
      "metadata": {
        "id": "moyoqQsCl0Hz"
      },
      "id": "moyoqQsCl0Hz",
      "execution_count": null,
      "outputs": []
    },
    {
      "cell_type": "code",
      "execution_count": null,
      "id": "6da6d308",
      "metadata": {
        "id": "6da6d308"
      },
      "outputs": [],
      "source": [
        "pip install tensorflow"
      ]
    },
    {
      "cell_type": "markdown",
      "source": [
        "**3.0 Tokenização!!**\n",
        "\n",
        "* Para manter o modelo eficiente e focado, limitei o vocabulário às 15.000 palavras mais comuns, e qualquer palavra fora desse conjunto será tratada como um token desconhecido (<unk>). Após a tokenização, cada avaliação se torna uma sequência de números, mas com comprimentos diferentes, além de um padding de 150 token por avaliação.\n",
        "\n"
      ],
      "metadata": {
        "id": "aEw_R7poe6-W"
      },
      "id": "aEw_R7poe6-W"
    },
    {
      "cell_type": "code",
      "execution_count": null,
      "id": "115e60af",
      "metadata": {
        "id": "115e60af"
      },
      "outputs": [],
      "source": [
        "from tensorflow.keras.preprocessing.text import Tokenizer\n",
        "from tensorflow.keras.preprocessing.sequence import pad_sequences\n",
        "\n",
        "# 1. Instanciar e configurar o tokenizador\n",
        "tokenizer = Tokenizer(num_words=15000, oov_token=\"<unk>\")  # Limitar o vocabulário aos 15000 termos mais frequentes\n",
        "\n",
        "# 2. Ajustar o tokenizador aos seus textos (coluna texto_lematizado)\n",
        "tokenizer.fit_on_texts(dataSemStopWords['texto_lematizado'])\n",
        "\n",
        "# 3. Converter os textos em sequências de inteiros\n",
        "sequences = tokenizer.texts_to_sequences(dataSemStopWords['texto_lematizado'])\n",
        "\n",
        "# 4. Padronizar o tamanho das sequências (opcional, mas recomendado)\n",
        "max_length = 150  # Tamanho máximo da sequência (ajuste conforme necessidade)\n",
        "padded_sequences = pad_sequences(sequences, maxlen=max_length, padding='post')\n",
        "\n",
        "# 5. Visualizar o resultado\n",
        "print(f\"Tamanho do vocabulário: {len(tokenizer.word_index)}\")\n",
        "print(f\"Forma do array de sequências: {padded_sequences.shape}\")\n",
        "print(f\"Exemplo de sequência original: {sequences[0][:20]}...\")\n",
        "print(f\"Exemplo de sequência padronizada: {padded_sequences[0][:20]}...\")\n"
      ]
    },
    {
      "cell_type": "markdown",
      "source": [
        "**3.1 Divisão Estratificada: Treino, Validação e Teste**\n",
        "\n",
        "* Utilizarei uma separação em três partes: 80% para treino, 10% para validação (ajuste de hiperparâmetros) e 10% para teste (avaliação final e imparcial).\n"
      ],
      "metadata": {
        "id": "s8J32XHmfM6L"
      },
      "id": "s8J32XHmfM6L"
    },
    {
      "cell_type": "code",
      "execution_count": null,
      "id": "5afea72e",
      "metadata": {
        "id": "5afea72e"
      },
      "outputs": [],
      "source": [
        "import pandas as pd\n",
        "from sklearn.model_selection import train_test_split\n",
        "\n",
        "# --- Passo 1: Primeira Divisão (Treino / Resto) ---\n",
        "train_df, temp_df = train_test_split(\n",
        "    dataSemStopWords,\n",
        "    test_size=0.2,\n",
        "    random_state=42,\n",
        "    stratify=dataSemStopWords['feedback']\n",
        ")\n",
        "\n",
        "# --- Passo 2: Segunda Divisão (Validação / Teste) ---\n",
        "val_df, test_df = train_test_split(\n",
        "    temp_df,\n",
        "    test_size=0.5,\n",
        "    random_state=42,\n",
        "    stratify=temp_df['feedback'] # Estratificar aqui também é importante\n",
        ")\n",
        "\n",
        "print(dataSemStopWords)\n",
        "print(train_df)\n",
        "print(val_df)\n",
        "print(test_df)\n"
      ]
    },
    {
      "cell_type": "code",
      "execution_count": null,
      "id": "i4r6ImfrowwA",
      "metadata": {
        "id": "i4r6ImfrowwA"
      },
      "outputs": [],
      "source": [
        "\n",
        "from transformers import AutoTokenizer, TFBertForSequenceClassification, create_optimizer\n",
        "import tensorflow as tf\n",
        "import pandas as pd\n",
        "import numpy as np\n",
        "from sklearn.metrics import classification_report, confusion_matrix\n",
        "from sklearn.utils.class_weight import compute_class_weight\n",
        "import seaborn as sns\n",
        "import matplotlib.pyplot as plt\n",
        "import os # Para gerenciar caminhos de arquivo\n",
        "\n",
        "\n",
        "\n"
      ]
    },
    {
      "cell_type": "markdown",
      "source": [
        "**Bertimbau!**"
      ],
      "metadata": {
        "id": "kYjuzxWKgZzE"
      },
      "id": "kYjuzxWKgZzE"
    },
    {
      "cell_type": "code",
      "source": [
        "model_name = \"neuralmind/bert-base-portuguese-cased\"\n",
        "tokenizer = AutoTokenizer.from_pretrained(model_name)\n",
        "model = TFBertForSequenceClassification.from_pretrained(model_name, num_labels=2)"
      ],
      "metadata": {
        "id": "vKXBbsnUgEHP"
      },
      "id": "vKXBbsnUgEHP",
      "execution_count": null,
      "outputs": []
    },
    {
      "cell_type": "markdown",
      "source": [
        "**Preparando dados**\n",
        "* Para preparar os dados, vou usar o tokenizer para converter cada avaliação em input IDs e attention masks, padronizando o comprimento em 150 tokens. Em seguida, encapsularei esses dados tokenizados junto com seus respectivos rótulos em objetos tf.data.Dataset, criando um pipeline de dados otimizado e de alta performance para o treinamento no TensorFlow."
      ],
      "metadata": {
        "id": "UbTyt0cOgaK8"
      },
      "id": "UbTyt0cOgaK8"
    },
    {
      "cell_type": "code",
      "source": [
        "train_encodings = tokenizer(train_df['texto_lematizado'].tolist(), truncation=True, padding=True, max_length=150, return_tensors='tf')\n",
        "val_encodings = tokenizer(val_df['texto_lematizado'].tolist(), truncation=True, padding=True, max_length=150, return_tensors='tf')\n",
        "test_encodings = tokenizer(test_df['texto_lematizado'].tolist(), truncation=True, padding=True, max_length=150, return_tensors='tf')\n",
        "\n",
        "train_dataset = tf.data.Dataset.from_tensor_slices((dict(train_encodings), train_df['feedback'].values))\n",
        "val_dataset = tf.data.Dataset.from_tensor_slices((dict(val_encodings), val_df['feedback'].values))\n",
        "test_dataset = tf.data.Dataset.from_tensor_slices((dict(test_encodings), test_df['feedback'].values))\n"
      ],
      "metadata": {
        "id": "J57ToSXjgD_v"
      },
      "id": "J57ToSXjgD_v",
      "execution_count": null,
      "outputs": []
    },
    {
      "cell_type": "markdown",
      "source": [
        "**Class Weights para o desbalanceamento dos dados**"
      ],
      "metadata": {
        "id": "U9OXEjfFgakE"
      },
      "id": "U9OXEjfFgakE"
    },
    {
      "cell_type": "code",
      "source": [
        "y_train_labels = train_df['feedback'].values\n",
        "class_labels = np.unique(y_train_labels)\n",
        "class_weights_array = compute_class_weight(class_weight='balanced', classes=class_labels, y=y_train_labels)\n",
        "class_weight_dict = dict(zip(class_labels, class_weights_array))\n",
        "\n",
        "\n",
        "print(f\"Classes: {class_labels}\")\n",
        "print(f\"Pesos das Classes Calculados: {class_weights_array}\")\n",
        "print(f\"Dicionário de Pesos para Keras: {class_weight_dict}\")\n"
      ],
      "metadata": {
        "id": "Ks4oiE7SgD3_"
      },
      "id": "Ks4oiE7SgD3_",
      "execution_count": null,
      "outputs": []
    },
    {
      "cell_type": "markdown",
      "source": [
        "**HiperParametros**\n",
        "* Com os dados prontos, agora vou configurar os parametros para a modelagem. Irei configurar o batch_size como 16, que define quantos exemplos o modelo verá antes de atualizar seus pesos. O número de epochs será 2, o que significa que o modelo irá percorrer todo o conjunto de dados de treino duas vezes, além do learning rate scheduler com warmup.\n"
      ],
      "metadata": {
        "id": "GmD934i-ga99"
      },
      "id": "GmD934i-ga99"
    },
    {
      "cell_type": "code",
      "source": [
        "batch_size = 16\n",
        "epochs = 2\n",
        "\n",
        "train_batches = train_dataset.shuffle(len(train_df)).batch(batch_size)\n",
        "val_batches = val_dataset.batch(batch_size)\n",
        "test_batches = test_dataset.batch(batch_size)\n",
        "\n",
        "steps_per_epoch = len(train_df) // batch_size\n",
        "if len(train_df) % batch_size != 0:\n",
        "    steps_per_epoch += 1\n",
        "total_train_steps = steps_per_epoch * epochs\n",
        "\n",
        "optimizer, lr_schedule = create_optimizer(\n",
        "    init_lr=2e-5,\n",
        "    num_train_steps=total_train_steps,\n",
        "    num_warmup_steps=int(0.1 * total_train_steps),\n",
        "    weight_decay_rate=0.01\n",
        ")"
      ],
      "metadata": {
        "id": "3XxfEAqegDwf"
      },
      "id": "3XxfEAqegDwf",
      "execution_count": null,
      "outputs": []
    },
    {
      "cell_type": "markdown",
      "source": [
        "**Compilando o modelo!!**"
      ],
      "metadata": {
        "id": "3zEX5zRvgbc2"
      },
      "id": "3zEX5zRvgbc2"
    },
    {
      "cell_type": "code",
      "source": [
        "model.compile(\n",
        "    optimizer=optimizer,\n",
        "    loss=tf.keras.losses.SparseCategoricalCrossentropy(from_logits=True),\n",
        "    metrics=['accuracy']\n",
        ")"
      ],
      "metadata": {
        "id": "nOx9bPWfgDpn"
      },
      "id": "nOx9bPWfgDpn",
      "execution_count": null,
      "outputs": []
    },
    {
      "cell_type": "markdown",
      "source": [
        "**Treinando**"
      ],
      "metadata": {
        "id": "e9YCfwuUgb0e"
      },
      "id": "e9YCfwuUgb0e"
    },
    {
      "cell_type": "code",
      "source": [
        "print(\"Iniciando o treinamento do BERTimbau com class_weight...\")\n",
        "\n",
        "history = model.fit(\n",
        "    train_batches,\n",
        "    validation_data=val_batches,\n",
        "    epochs=epochs,\n",
        "    class_weight=class_weight_dict,\n",
        "    verbose=1\n",
        ")\n",
        "print(\"Treinamento concluído!\")"
      ],
      "metadata": {
        "id": "lY6Py-uIgDiI"
      },
      "id": "lY6Py-uIgDiI",
      "execution_count": null,
      "outputs": []
    }
  ],
  "metadata": {
    "accelerator": "GPU",
    "colab": {
      "gpuType": "A100",
      "provenance": [],
      "machine_shape": "hm",
      "include_colab_link": true
    },
    "kernelspec": {
      "display_name": "Python 3",
      "name": "python3"
    },
    "language_info": {
      "codemirror_mode": {
        "name": "ipython",
        "version": 3
      },
      "file_extension": ".py",
      "mimetype": "text/x-python",
      "name": "python",
      "nbconvert_exporter": "python",
      "pygments_lexer": "ipython3",
      "version": "3.12.7"
    }
  },
  "nbformat": 4,
  "nbformat_minor": 5
}