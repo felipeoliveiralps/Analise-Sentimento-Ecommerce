{
  "cells": [
    {
      "cell_type": "markdown",
      "metadata": {
        "id": "view-in-github",
        "colab_type": "text"
      },
      "source": [
        "<a href=\"https://colab.research.google.com/github/felipeoliveiralps/Analise-Sentimento-Ecommerce/blob/master/notebooks/NLP/AnaliseSentimentoBERT.ipynb\" target=\"_parent\"><img src=\"https://colab.research.google.com/assets/colab-badge.svg\" alt=\"Open In Colab\"/></a>"
      ]
    },
    {
      "cell_type": "markdown",
      "id": "2d39119f",
      "metadata": {
        "id": "2d39119f"
      },
      "source": [
        "**Carregando dataset já tratado**"
      ]
    },
    {
      "cell_type": "code",
      "execution_count": null,
      "id": "2b267ba2",
      "metadata": {
        "id": "2b267ba2"
      },
      "outputs": [],
      "source": [
        "import pandas as pd\n",
        "\n",
        "dataSemStopWords = pd.read_csv('../../datasets/dataSemStopWords.csv', engine='python')\n"
      ]
    },
    {
      "cell_type": "code",
      "execution_count": null,
      "id": "6da6d308",
      "metadata": {
        "id": "6da6d308"
      },
      "outputs": [],
      "source": [
        "pip install tensorflow"
      ]
    },
    {
      "cell_type": "markdown",
      "source": [
        "**2.1 Divisão Estratificada do DataSet: Treino, Validação e Teste**\n",
        "\n",
        "* Para preparar a modelagem, irei dividir os dados em três conjuntos: treino (80%), validação (10%) e teste (10%). Essa separação é fundamental para treinar o modelo, otimizar seus parâmetros e, por fim, realizar uma avaliação final e imparcial.\n",
        "\n",
        "* A divisão será feita de forma estratificada utilizando a coluna feedback como base. Isso garante que a proporção de classes (positivas e negativas) seja exatamente a mesma nos três conjuntos, o que é crucial para a confiabilidade do treinamento e da avaliação do modelo."
      ],
      "metadata": {
        "id": "0-umA-UZYQa0"
      },
      "id": "0-umA-UZYQa0"
    },
    {
      "cell_type": "code",
      "execution_count": null,
      "id": "5afea72e",
      "metadata": {
        "id": "5afea72e"
      },
      "outputs": [],
      "source": [
        "import pandas as pd\n",
        "from sklearn.model_selection import train_test_split\n",
        "from transformers import AutoTokenizer, TFBertForSequenceClassification, create_optimizer\n",
        "import tensorflow as tf\n",
        "import pandas as pd\n",
        "import numpy as np\n",
        "from sklearn.metrics import classification_report, confusion_matrix\n",
        "from sklearn.utils.class_weight import compute_class_weight\n",
        "import seaborn as sns\n",
        "import matplotlib.pyplot as plt\n",
        "import random\n",
        "import os\n",
        "\n",
        "seed_value = 49\n",
        "\n",
        "os.environ['PYTHONHASHSEED'] = str(seed_value)\n",
        "\n",
        "random.seed(seed_value)\n",
        "\n",
        "np.random.seed(seed_value)\n",
        "\n",
        "tf.random.set_seed(seed_value)\n",
        "\n",
        "# --- Passo 1: Primeira Divisão (Treino / Resto) ---\n",
        "# Vamos separar 70% dos dados para o treino e deixar 30% para o \"resto\".\n",
        "train_df, temp_df = train_test_split(\n",
        "    dataSemStopWords,\n",
        "    test_size=0.3,\n",
        "    random_state=seed_value,\n",
        "    stratify=dataSemStopWords['feedback']\n",
        ")\n",
        "\n",
        "# --- Passo 2: Segunda Divisão (Validação / Teste) ---\n",
        "val_df, test_df = train_test_split(\n",
        "    temp_df,\n",
        "    test_size=0.5,\n",
        "    random_state=seed_value,\n",
        "    stratify=temp_df['feedback']\n",
        ")\n"
      ]
    },
    {
      "cell_type": "markdown",
      "source": [
        "**2.3 Carregando modelo e Tokenizer (BERTIMBAU)**\n",
        "* Para esta tarefa de classificação de texto o BERTIMBAU, um modelo pré-treinado.\n",
        "\n",
        "* A utilização de um modelo como o BERTIMBAU, em vez de treinar um do zero, nos permite transferir o \"conhecimento\" linguístico que ele já possui para a nossa tarefa específica. Isso resulta em um desempenho significativamente superior e um tempo de treinamento muito menor para alcançar alta acurácia.\n",
        "\n"
      ],
      "metadata": {
        "id": "_e8ikJRaZA7h"
      },
      "id": "_e8ikJRaZA7h"
    },
    {
      "cell_type": "code",
      "source": [
        "model_name = \"neuralmind/bert-base-portuguese-cased\"\n",
        "tokenizer = AutoTokenizer.from_pretrained(model_name)\n",
        "model = TFBertForSequenceClassification.from_pretrained(model_name, num_labels=3)\n",
        "\n",
        "train_df['texto_lematizado'] = train_df['texto_lematizado'].astype(str)\n",
        "val_df['texto_lematizado'] = val_df['texto_lematizado'].astype(str)\n",
        "test_df['texto_lematizado'] = test_df['texto_lematizado'].astype(str)\n"
      ],
      "metadata": {
        "id": "kOlqWlNOYcQP"
      },
      "id": "kOlqWlNOYcQP",
      "execution_count": null,
      "outputs": []
    },
    {
      "cell_type": "markdown",
      "source": [
        "**2.4 Preparando Dados**"
      ],
      "metadata": {
        "id": "9s5CkWcvZHZU"
      },
      "id": "9s5CkWcvZHZU"
    },
    {
      "cell_type": "code",
      "source": [
        "train_encodings = tokenizer(train_df['texto_lematizado'].tolist(), truncation=True, padding=True, max_length=150, return_tensors='tf')\n",
        "val_encodings = tokenizer(val_df['texto_lematizado'].tolist(), truncation=True, padding=True, max_length=150, return_tensors='tf')\n",
        "test_encodings = tokenizer(test_df['texto_lematizado'].tolist(), truncation=True, padding=True, max_length=150, return_tensors='tf')\n",
        "\n",
        "train_dataset = tf.data.Dataset.from_tensor_slices((dict(train_encodings), train_df['feedback'].values))\n",
        "val_dataset = tf.data.Dataset.from_tensor_slices((dict(val_encodings), val_df['feedback'].values))\n",
        "test_dataset = tf.data.Dataset.from_tensor_slices((dict(test_encodings), test_df['feedback'].values))"
      ],
      "metadata": {
        "id": "VlOs_d4jYcN4"
      },
      "id": "VlOs_d4jYcN4",
      "execution_count": null,
      "outputs": []
    },
    {
      "cell_type": "markdown",
      "source": [
        "**2.5 Criando o peso das classes**\n",
        "* Durante a análise, percebi que nosso conjunto de treino possui um desnível entre as categorias de feedback, ou seja, uma classe tem muito mais amostras que a outra. Se treinarmos o modelo com esses dados, ele pode se tornar \"preguiçoso\", aprendendo a prever apenas a classe majoritária e ignorando a minoritária, resultando em um desempenho ruim na prática.\n",
        "\n",
        "* Para corrigir esse viés, irei calcular e aplicar pesos de classe. Essa técnica modifica a função de perda do modelo, aplicando uma penalidade maior quando ele comete um erro na classe minoritária.\n"
      ],
      "metadata": {
        "id": "zn9fh8lIZIGt"
      },
      "id": "zn9fh8lIZIGt"
    },
    {
      "cell_type": "code",
      "source": [
        "y_train_labels = train_df['feedback'].values\n",
        "class_labels = np.unique(y_train_labels)\n",
        "class_weights_array = compute_class_weight(class_weight='balanced', classes=class_labels, y=y_train_labels)\n",
        "class_weight_dict = dict(zip(class_labels, class_weights_array))\n",
        "\n",
        "print(f\"Classes: {class_labels}\")\n",
        "print(f\"Pesos das Classes Calculados: {class_weights_array}\")\n",
        "print(f\"Dicionário de Pesos para Keras: {class_weight_dict}\")"
      ],
      "metadata": {
        "id": "aGnCd-GoYcLW"
      },
      "id": "aGnCd-GoYcLW",
      "execution_count": null,
      "outputs": []
    },
    {
      "cell_type": "markdown",
      "source": [
        "**Configurando hiperParametros**\n",
        "\n",
        "* Com os dados prontos, agora vou configurar os parametros para a modelagem. Irei configurar o batch_size como 16, que define quantos exemplos o modelo verá antes de atualizar seus pesos. O número de epochs será 2, o que significa que o modelo irá percorrer todo o conjunto de dados de treino duas vezes, além do learning rate scheduler com warmup.\n",
        "\n",
        "\n"
      ],
      "metadata": {
        "id": "KhQcsyTxZIwv"
      },
      "id": "KhQcsyTxZIwv"
    },
    {
      "cell_type": "code",
      "source": [
        "batch_size = 16\n",
        "epochs = 3\n",
        "\n",
        "train_batches = train_dataset.shuffle(len(train_df), seed=seed_value, reshuffle_each_iteration=False).batch(batch_size)\n",
        "val_batches = val_dataset.batch(batch_size)\n",
        "test_batches = test_dataset.batch(batch_size)\n",
        "\n",
        "steps_per_epoch = len(train_df) // batch_size\n",
        "if len(train_df) % batch_size != 0:\n",
        "    steps_per_epoch += 1\n",
        "total_train_steps = steps_per_epoch * epochs\n",
        "\n",
        "optimizer, lr_schedule = create_optimizer(\n",
        "    init_lr=2e-5,\n",
        "    num_train_steps=total_train_steps,\n",
        "    num_warmup_steps=int(0.1 * total_train_steps),\n",
        "    weight_decay_rate=0.01\n",
        ")"
      ],
      "metadata": {
        "id": "WLlBixsVYcIX"
      },
      "id": "WLlBixsVYcIX",
      "execution_count": null,
      "outputs": []
    },
    {
      "cell_type": "markdown",
      "source": [
        "**Compilando Modelo!!**"
      ],
      "metadata": {
        "id": "fURoaKeZZJT3"
      },
      "id": "fURoaKeZZJT3"
    },
    {
      "cell_type": "code",
      "source": [
        "model.compile(\n",
        "    optimizer=optimizer,\n",
        "    loss=tf.keras.losses.SparseCategoricalCrossentropy(from_logits=True),\n",
        "    metrics=['accuracy']\n",
        ")"
      ],
      "metadata": {
        "id": "B32dSNQLYcCm"
      },
      "id": "B32dSNQLYcCm",
      "execution_count": null,
      "outputs": []
    },
    {
      "cell_type": "markdown",
      "source": [
        "**Treinando Modelo**"
      ],
      "metadata": {
        "id": "VAblAbysZJ0A"
      },
      "id": "VAblAbysZJ0A"
    },
    {
      "cell_type": "code",
      "source": [
        "print(\"Iniciando o treinamento do BERTimbau com class_weight...\")\n",
        "\n",
        "history = model.fit(\n",
        "    train_batches,\n",
        "    validation_data=val_batches,\n",
        "    epochs=epochs,\n",
        "    class_weight=class_weight_dict,\n",
        "    verbose=1\n",
        ")\n",
        "print(\"Treinamento concluído!\")"
      ],
      "metadata": {
        "id": "VTRHgz5_sGBw"
      },
      "id": "VTRHgz5_sGBw",
      "execution_count": null,
      "outputs": []
    },
    {
      "cell_type": "markdown",
      "source": [
        "**Resultados**"
      ],
      "metadata": {
        "id": "uOOmocxgZKTU"
      },
      "id": "uOOmocxgZKTU"
    },
    {
      "cell_type": "code",
      "source": [
        "print(\"\\n--- Avaliação no Conjunto de Teste (modelo da última epoch) ---\")\n",
        "result = model.evaluate(test_batches)\n",
        "print(f\"Loss no Teste: {result[0]:.4f}\")\n",
        "print(f\"Acurácia no Teste: {result[1] * 100:.2f}%\")\n",
        "\n",
        "preds = model.predict(test_batches)\n",
        "pred_classes = np.argmax(preds.logits, axis=1)\n",
        "\n",
        "print(\"\\nRelatório de Classificação:\")\n",
        "print(classification_report(\n",
        "    list(test_df['feedback'].values),\n",
        "    pred_classes,\n",
        "    target_names=['Negativo', 'Neutro', 'Positivo']\n",
        "))\n",
        "\n",
        "cm = confusion_matrix(list(test_df['feedback'].values), pred_classes)\n",
        "plt.figure(figsize=(8, 6))\n",
        "sns.heatmap(cm, annot=True, fmt='d', cmap='Blues',\n",
        "            xticklabels=['Negativo', 'Neutro', 'Positivo'],\n",
        "            yticklabels=['Negativo', 'Neutro', 'Positivo'])\n",
        "plt.xlabel('Previsto')\n",
        "plt.ylabel('Real')\n",
        "plt.title('Matriz de Confusão - BERTimbau')\n",
        "plt.show()"
      ],
      "metadata": {
        "id": "XSu_HIA_YbuV"
      },
      "id": "XSu_HIA_YbuV",
      "execution_count": null,
      "outputs": []
    }
  ],
  "metadata": {
    "accelerator": "GPU",
    "colab": {
      "gpuType": "L4",
      "machine_shape": "hm",
      "provenance": [],
      "include_colab_link": true
    },
    "kernelspec": {
      "display_name": "Python 3",
      "name": "python3"
    },
    "language_info": {
      "codemirror_mode": {
        "name": "ipython",
        "version": 3
      },
      "file_extension": ".py",
      "mimetype": "text/x-python",
      "name": "python",
      "nbconvert_exporter": "python",
      "pygments_lexer": "ipython3",
      "version": "3.12.7"
    }
  },
  "nbformat": 4,
  "nbformat_minor": 5
}