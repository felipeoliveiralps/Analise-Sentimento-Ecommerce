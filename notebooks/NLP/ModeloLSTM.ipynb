{
  "cells": [
    {
      "cell_type": "markdown",
      "metadata": {
        "id": "view-in-github",
        "colab_type": "text"
      },
      "source": [
        "<a href=\"https://colab.research.google.com/github/felipeoliveiralps/Analise-Sentimento-Ecommerce/blob/master/notebooks/NLP/ModeloLSTM.ipynb\" target=\"_parent\"><img src=\"https://colab.research.google.com/assets/colab-badge.svg\" alt=\"Open In Colab\"/></a>"
      ]
    },
    {
      "cell_type": "markdown",
      "id": "2d39119f",
      "metadata": {
        "id": "2d39119f"
      },
      "source": [
        "**Carregando dataset**"
      ]
    },
    {
      "cell_type": "code",
      "execution_count": null,
      "id": "2b267ba2",
      "metadata": {
        "id": "2b267ba2"
      },
      "outputs": [],
      "source": [
        "import pandas as pd\n",
        "\n",
        "dataSemStopWords = pd.read_csv('../../datasets/dataSemStopWords.csv', engine='python')\n"
      ]
    },
    {
      "cell_type": "code",
      "execution_count": null,
      "id": "3fb8fa64",
      "metadata": {
        "id": "3fb8fa64"
      },
      "outputs": [],
      "source": [
        "import spacy"
      ]
    },
    {
      "cell_type": "code",
      "execution_count": null,
      "id": "6da6d308",
      "metadata": {
        "id": "6da6d308"
      },
      "outputs": [],
      "source": [
        "pip install tensorflow"
      ]
    },
    {
      "cell_type": "markdown",
      "source": [
        "**Tokenização**\n",
        "\n",
        "* Antes de alimentar nosso  LSTM, precisamos converter o texto em vetores numéricos de tamanho fixo. O código a seguir executa um pipeline completo: primeiro, um Tokenizer do Keras é usado para construir um vocabulário com as 15.000 palavras mais frequentes e transformar nossas avaliações em sequências de números.\n",
        "\n",
        "* Em seguida, como as redes neurais exigem entradas de comprimento uniforme, aplicamos o Padding para garantir que todas as sequências tenham exatamente 150 tokens, além de dividir o treino/teste."
      ],
      "metadata": {
        "id": "pe-07nKwpv0N"
      },
      "id": "pe-07nKwpv0N"
    },
    {
      "cell_type": "code",
      "execution_count": null,
      "id": "115e60af",
      "metadata": {
        "id": "115e60af"
      },
      "outputs": [],
      "source": [
        "from tensorflow.keras.preprocessing.text import Tokenizer\n",
        "from tensorflow.keras.preprocessing.sequence import pad_sequences\n",
        "\n",
        "tokenizer = Tokenizer(num_words=15000, oov_token=\"<unk>\")\n",
        "\n",
        "dataSemStopWords['texto_lematizado'] = dataSemStopWords['texto_lematizado'].astype(str)\n",
        "\n",
        "tokenizer.fit_on_texts(dataSemStopWords['texto_lematizado'])\n",
        "\n",
        "sequences = tokenizer.texts_to_sequences(dataSemStopWords['texto_lematizado'])\n",
        "\n",
        "max_length = 150\n",
        "padded_sequences = pad_sequences(sequences, maxlen=max_length, padding='post')\n",
        "\n",
        "from sklearn.model_selection import train_test_split\n",
        "\n",
        "X = padded_sequences\n",
        "y = dataSemStopWords['feedback']\n",
        "\n",
        "X_train, X_test, y_train, y_test = train_test_split(X, y, test_size=0.2, random_state=42, stratify=y)"
      ]
    },
    {
      "cell_type": "markdown",
      "source": [
        "**Class Weights**"
      ],
      "metadata": {
        "id": "t6Y87lp7qDgb"
      },
      "id": "t6Y87lp7qDgb"
    },
    {
      "cell_type": "code",
      "execution_count": null,
      "id": "8cfd9431",
      "metadata": {
        "id": "8cfd9431"
      },
      "outputs": [],
      "source": [
        "from sklearn.utils.class_weight import compute_class_weight\n",
        "import numpy as np\n",
        "\n",
        "classes = np.unique(y_train)\n",
        "\n",
        "pesos = compute_class_weight(class_weight='balanced',\n",
        "                             classes=classes,\n",
        "                             y=y_train)\n",
        "\n",
        "print(f\"Classes: {classes}\")\n",
        "print(f\"Pesos calculados: {pesos}\")"
      ]
    },
    {
      "cell_type": "code",
      "execution_count": null,
      "id": "42da18f1",
      "metadata": {
        "id": "42da18f1"
      },
      "outputs": [],
      "source": [
        "pip install imbalanced-learn\n"
      ]
    },
    {
      "cell_type": "markdown",
      "source": [
        "**Construindo o Modelo LSTM**\n",
        "\n",
        "* Para esta tarefa de classificação de sentimento, irei construir um modelo de rede neural sequencial. A arquitetura começa com uma camada de Embedding, que é responsável por transformar os números inteiros do nosso vocabulário em vetores densos de 128 dimensões. É nesta camada que o modelo aprenderá as relações de significado entre as palavras.\n",
        "\n",
        "* O núcleo do modelo é uma camada Bidirectional LSTM com 64 unidades. A LSTM (Long Short-Term Memory) é projetada para entender padrões em sequências, e o fato de ser bidirecional permite que ela analise o texto tanto da esquerda para a direita quanto da direita para a esquerda. Isso fornece um contexto muito mais rico de cada palavra, melhorando a capacidade do modelo de capturar a intenção do texto."
      ],
      "metadata": {
        "id": "bPTPuQfrqS_p"
      },
      "id": "bPTPuQfrqS_p"
    },
    {
      "cell_type": "code",
      "execution_count": null,
      "id": "a10d1cf1",
      "metadata": {
        "id": "a10d1cf1"
      },
      "outputs": [],
      "source": [
        "from tensorflow.keras.models import Sequential\n",
        "from tensorflow.keras.layers import Embedding, LSTM, Dense, Dropout, Bidirectional\n",
        "\n",
        "vocab_size = min(len(tokenizer.word_index) + 1, 15000)\n",
        "embedding_dim = 128\n",
        "max_length = 150\n",
        "\n",
        "# Construir o modelo\n",
        "model = Sequential([\n",
        "    Embedding(vocab_size, embedding_dim),\n",
        "\n",
        "    Bidirectional(LSTM(64)),\n",
        "    Dropout(0.4),\n",
        "\n",
        "    Dense(64, activation='relu'),\n",
        "    Dropout(0.5),\n",
        "\n",
        "    Dense(3, activation='softmax')\n",
        "])"
      ]
    },
    {
      "cell_type": "markdown",
      "source": [
        "**Preparando o dicionário dos pesos**"
      ],
      "metadata": {
        "id": "wEaB_ku4qgTm"
      },
      "id": "wEaB_ku4qgTm"
    },
    {
      "cell_type": "code",
      "execution_count": null,
      "id": "3661904b",
      "metadata": {
        "id": "3661904b"
      },
      "outputs": [],
      "source": [
        "class_weight_dict = {i: weight for i, weight in enumerate(pesos)}"
      ]
    },
    {
      "cell_type": "markdown",
      "source": [
        "**Compilando o modelo com ADAM como optimizador**\n",
        "* Escolhi ele pois é um algoritmo robusto e amplamente utilizado que ajusta os pesos da rede de forma eficiente para minimizar os erros"
      ],
      "metadata": {
        "id": "-dnuLVSIqjBq"
      },
      "id": "-dnuLVSIqjBq"
    },
    {
      "cell_type": "code",
      "execution_count": null,
      "id": "c3ec8681",
      "metadata": {
        "id": "c3ec8681"
      },
      "outputs": [],
      "source": [
        "\n",
        "model.compile(\n",
        "    loss='sparse_categorical_crossentropy',\n",
        "    optimizer='adam',\n",
        "    metrics=['accuracy']\n",
        ")\n",
        "\n"
      ]
    },
    {
      "cell_type": "markdown",
      "source": [
        "**Treinamento com Callbacks**\n",
        "* Com o modelo compilado, iniciarei a fase de treinamento. Para evitar overfitting e garantir que será salvo a versão mais performática do nosso modelo, utilizarei callbacks, que irá monitorar o processo de treino a cada época."
      ],
      "metadata": {
        "id": "hZQZqbhfq92U"
      },
      "id": "hZQZqbhfq92U"
    },
    {
      "cell_type": "code",
      "execution_count": null,
      "id": "590b0cb1",
      "metadata": {
        "id": "590b0cb1"
      },
      "outputs": [],
      "source": [
        "from tensorflow.keras.callbacks import EarlyStopping, ModelCheckpoint\n",
        "\n",
        "model_checkpoint = ModelCheckpoint(\n",
        "    filepath='melhor_modelo.keras',\n",
        "    monitor='val_loss',\n",
        "    save_best_only=True,\n",
        "    mode='min'\n",
        ")\n",
        "\n",
        "early_stopping = EarlyStopping(\n",
        "    monitor='val_loss',\n",
        "    patience=2,\n",
        "    verbose=1,\n",
        "    mode='min'\n",
        ")\n",
        "\n",
        "history = model.fit(\n",
        "    X_train, y_train,\n",
        "    validation_data=(X_test, y_test),\n",
        "    epochs=15,\n",
        "    batch_size=64,\n",
        "    class_weight=class_weight_dict,\n",
        "    callbacks=[early_stopping, model_checkpoint]\n",
        ")\n",
        "\n",
        "\n",
        "from tensorflow.keras.models import load_model\n",
        "\n",
        "print(\"\\nCarregando o melhor modelo salvo...\")\n",
        "model = load_model('melhor_modelo.keras')\n",
        "print(\"Melhor modelo carregado com sucesso.\")\n"
      ]
    },
    {
      "cell_type": "markdown",
      "source": [
        "**Métricas**"
      ],
      "metadata": {
        "id": "cxT7fZJmrORc"
      },
      "id": "cxT7fZJmrORc"
    },
    {
      "cell_type": "code",
      "execution_count": null,
      "id": "42bd684f",
      "metadata": {
        "id": "42bd684f"
      },
      "outputs": [],
      "source": [
        "model.summary()"
      ]
    },
    {
      "cell_type": "code",
      "execution_count": null,
      "id": "4e203645",
      "metadata": {
        "id": "4e203645"
      },
      "outputs": [],
      "source": [
        "from sklearn.metrics import classification_report, confusion_matrix\n",
        "import matplotlib.pyplot as plt\n",
        "import seaborn as sns\n",
        "\n",
        "\n",
        "print(\"\\n--- Avaliação Final no Conjunto de Teste ---\")\n",
        "\n",
        "loss, accuracy = model.evaluate(X_test, y_test, verbose=0)\n",
        "print(f\"Loss no Teste: {loss:.4f}\")\n",
        "print(f\"Acurácia no Teste: {accuracy * 100:.2f}%\")\n",
        "\n",
        "y_pred_probs = model.predict(X_test)\n",
        "\n",
        "_classes = np.argmax(y_pred_probs, axis=1)\n",
        "\n",
        "# 3. Gerar Relatório de Classificação e Matriz de Confusão\n",
        "print(\"\\nRelatório de Classificação:\")\n",
        "print(classification_report(y_test, _classes, target_names=['Negativo', 'Neutro', 'Positivo']))\n",
        "\n",
        "print(\"\\nMatriz de Confusão:\")\n",
        "cm = confusion_matrix(y_test, _classes)\n",
        "\n",
        "# Visualizar matriz de confusão\n",
        "plt.figure(figsize=(8, 6))\n",
        "sns.heatmap(cm, annot=True, fmt='d', cmap='Blues',\n",
        "            xticklabels=['Negativo', 'Neutro', 'Positivo'],\n",
        "            yticklabels=['Negativo', 'Neutro', 'Positivo'])\n",
        "plt.xlabel('Previsto')\n",
        "plt.ylabel('Real')\n",
        "plt.title('Matriz de Confusão')\n",
        "plt.show()"
      ]
    }
  ],
  "metadata": {
    "accelerator": "GPU",
    "colab": {
      "gpuType": "A100",
      "machine_shape": "hm",
      "provenance": [],
      "include_colab_link": true
    },
    "kernelspec": {
      "display_name": "Python 3",
      "name": "python3"
    },
    "language_info": {
      "codemirror_mode": {
        "name": "ipython",
        "version": 3
      },
      "file_extension": ".py",
      "mimetype": "text/x-python",
      "name": "python",
      "nbconvert_exporter": "python",
      "pygments_lexer": "ipython3",
      "version": "3.12.7"
    }
  },
  "nbformat": 4,
  "nbformat_minor": 5
}