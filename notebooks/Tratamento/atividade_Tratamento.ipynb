{
  "cells": [
    {
      "cell_type": "markdown",
      "id": "2d39119f",
      "metadata": {
        "id": "2d39119f"
      },
      "source": [
        "**Carregando dataset**"
      ]
    },
    {
      "cell_type": "code",
      "execution_count": 5,
      "id": "2b267ba2",
      "metadata": {
        "id": "2b267ba2"
      },
      "outputs": [],
      "source": [
        "import pandas as pd\n",
        "\n",
        "dataFeito = pd.read_csv('../../datasets/b2w.csv', engine='python')\n"
      ]
    },
    {
      "cell_type": "markdown",
      "id": "ce195843",
      "metadata": {
        "id": "ce195843"
      },
      "source": [
        "**Visualizando**"
      ]
    },
    {
      "cell_type": "code",
      "execution_count": 6,
      "id": "aa4ab876",
      "metadata": {
        "colab": {
          "base_uri": "https://localhost:8080/",
          "height": 597
        },
        "id": "aa4ab876",
        "outputId": "4c2a314f-2aec-4e25-e7df-155fe89ca105"
      },
      "outputs": [
        {
          "data": {
            "text/html": [
              "<div>\n",
              "<style scoped>\n",
              "    .dataframe tbody tr th:only-of-type {\n",
              "        vertical-align: middle;\n",
              "    }\n",
              "\n",
              "    .dataframe tbody tr th {\n",
              "        vertical-align: top;\n",
              "    }\n",
              "\n",
              "    .dataframe thead th {\n",
              "        text-align: right;\n",
              "    }\n",
              "</style>\n",
              "<table border=\"1\" class=\"dataframe\">\n",
              "  <thead>\n",
              "    <tr style=\"text-align: right;\">\n",
              "      <th></th>\n",
              "      <th>original_index</th>\n",
              "      <th>review_text</th>\n",
              "      <th>review_text_processed</th>\n",
              "      <th>review_text_tokenized</th>\n",
              "      <th>polarity</th>\n",
              "      <th>rating</th>\n",
              "      <th>kfold_polarity</th>\n",
              "      <th>kfold_rating</th>\n",
              "    </tr>\n",
              "  </thead>\n",
              "  <tbody>\n",
              "    <tr>\n",
              "      <th>0</th>\n",
              "      <td>11955</td>\n",
              "      <td>Bem macio e felpudo...recomendo.  Preço imbatí...</td>\n",
              "      <td>bem macio e felpudo...recomendo.  preco imbati...</td>\n",
              "      <td>['bem', 'macio', 'felpudo', 'recomendo', 'prec...</td>\n",
              "      <td>1.0</td>\n",
              "      <td>4</td>\n",
              "      <td>1</td>\n",
              "      <td>1</td>\n",
              "    </tr>\n",
              "    <tr>\n",
              "      <th>1</th>\n",
              "      <td>35478</td>\n",
              "      <td>Produto excepcional!  recomendo!!! inovador e ...</td>\n",
              "      <td>produto excepcional!  recomendo!!! inovador e ...</td>\n",
              "      <td>['produto', 'excepcional', 'recomendo', 'inova...</td>\n",
              "      <td>1.0</td>\n",
              "      <td>5</td>\n",
              "      <td>1</td>\n",
              "      <td>1</td>\n",
              "    </tr>\n",
              "    <tr>\n",
              "      <th>2</th>\n",
              "      <td>122760</td>\n",
              "      <td>recebi o produto antes do prazo mas veio com d...</td>\n",
              "      <td>recebi o produto antes do prazo mas veio com d...</td>\n",
              "      <td>['recebi', 'produto', 'antes', 'do', 'prazo', ...</td>\n",
              "      <td>0.0</td>\n",
              "      <td>1</td>\n",
              "      <td>1</td>\n",
              "      <td>1</td>\n",
              "    </tr>\n",
              "    <tr>\n",
              "      <th>3</th>\n",
              "      <td>17114</td>\n",
              "      <td>Bom custo beneficio. Adequado para pessoas que...</td>\n",
              "      <td>bom custo beneficio. adequado para pessoas que...</td>\n",
              "      <td>['bom', 'custo', 'beneficio', 'adequado', 'par...</td>\n",
              "      <td>1.0</td>\n",
              "      <td>5</td>\n",
              "      <td>1</td>\n",
              "      <td>1</td>\n",
              "    </tr>\n",
              "    <tr>\n",
              "      <th>4</th>\n",
              "      <td>19112</td>\n",
              "      <td>Além de higiênico tem o tamanho ideal. Só falt...</td>\n",
              "      <td>alem de higienico tem o tamanho ideal. so falt...</td>\n",
              "      <td>['alem', 'de', 'higienico', 'tem', 'tamanho', ...</td>\n",
              "      <td>NaN</td>\n",
              "      <td>3</td>\n",
              "      <td>-1</td>\n",
              "      <td>1</td>\n",
              "    </tr>\n",
              "    <tr>\n",
              "      <th>...</th>\n",
              "      <td>...</td>\n",
              "      <td>...</td>\n",
              "      <td>...</td>\n",
              "      <td>...</td>\n",
              "      <td>...</td>\n",
              "      <td>...</td>\n",
              "      <td>...</td>\n",
              "      <td>...</td>\n",
              "    </tr>\n",
              "    <tr>\n",
              "      <th>132368</th>\n",
              "      <td>41993</td>\n",
              "      <td>SMARTHPHONE  PERFEITO  MUITO  BOM  E  A  ECONO...</td>\n",
              "      <td>smarthphone  perfeito  muito  bom  e  a  econo...</td>\n",
              "      <td>['smarthphone', 'perfeito', 'muito', 'bom', 'e...</td>\n",
              "      <td>1.0</td>\n",
              "      <td>5</td>\n",
              "      <td>10</td>\n",
              "      <td>10</td>\n",
              "    </tr>\n",
              "    <tr>\n",
              "      <th>132369</th>\n",
              "      <td>97639</td>\n",
              "      <td>Eu estou muito chateado com isso gostaria que ...</td>\n",
              "      <td>eu estou muito chateado com isso gostaria que ...</td>\n",
              "      <td>['eu', 'estou', 'muito', 'chateado', 'com', 'i...</td>\n",
              "      <td>0.0</td>\n",
              "      <td>1</td>\n",
              "      <td>10</td>\n",
              "      <td>10</td>\n",
              "    </tr>\n",
              "    <tr>\n",
              "      <th>132370</th>\n",
              "      <td>95939</td>\n",
              "      <td>Vale a pena pelo preço oferecido, qualidade a ...</td>\n",
              "      <td>vale a pena pelo preco oferecido, qualidade a ...</td>\n",
              "      <td>['vale', 'pena', 'pelo', 'preco', 'oferecido',...</td>\n",
              "      <td>NaN</td>\n",
              "      <td>3</td>\n",
              "      <td>-1</td>\n",
              "      <td>10</td>\n",
              "    </tr>\n",
              "    <tr>\n",
              "      <th>132371</th>\n",
              "      <td>117952</td>\n",
              "      <td>O produto anunciado no site dizia ser  100% al...</td>\n",
              "      <td>o produto anunciado no site dizia ser  100% al...</td>\n",
              "      <td>['produto', 'anunciado', 'no', 'site', 'dizia'...</td>\n",
              "      <td>0.0</td>\n",
              "      <td>1</td>\n",
              "      <td>10</td>\n",
              "      <td>10</td>\n",
              "    </tr>\n",
              "    <tr>\n",
              "      <th>132372</th>\n",
              "      <td>43567</td>\n",
              "      <td>Não recebi o produto e consta como entregue no...</td>\n",
              "      <td>nao recebi o produto e consta como entregue no...</td>\n",
              "      <td>['nao', 'recebi', 'produto', 'consta', 'como',...</td>\n",
              "      <td>0.0</td>\n",
              "      <td>1</td>\n",
              "      <td>10</td>\n",
              "      <td>10</td>\n",
              "    </tr>\n",
              "  </tbody>\n",
              "</table>\n",
              "<p>132373 rows × 8 columns</p>\n",
              "</div>"
            ],
            "text/plain": [
              "        original_index                                        review_text  \\\n",
              "0                11955  Bem macio e felpudo...recomendo.  Preço imbatí...   \n",
              "1                35478  Produto excepcional!  recomendo!!! inovador e ...   \n",
              "2               122760  recebi o produto antes do prazo mas veio com d...   \n",
              "3                17114  Bom custo beneficio. Adequado para pessoas que...   \n",
              "4                19112  Além de higiênico tem o tamanho ideal. Só falt...   \n",
              "...                ...                                                ...   \n",
              "132368           41993  SMARTHPHONE  PERFEITO  MUITO  BOM  E  A  ECONO...   \n",
              "132369           97639  Eu estou muito chateado com isso gostaria que ...   \n",
              "132370           95939  Vale a pena pelo preço oferecido, qualidade a ...   \n",
              "132371          117952  O produto anunciado no site dizia ser  100% al...   \n",
              "132372           43567  Não recebi o produto e consta como entregue no...   \n",
              "\n",
              "                                    review_text_processed  \\\n",
              "0       bem macio e felpudo...recomendo.  preco imbati...   \n",
              "1       produto excepcional!  recomendo!!! inovador e ...   \n",
              "2       recebi o produto antes do prazo mas veio com d...   \n",
              "3       bom custo beneficio. adequado para pessoas que...   \n",
              "4       alem de higienico tem o tamanho ideal. so falt...   \n",
              "...                                                   ...   \n",
              "132368  smarthphone  perfeito  muito  bom  e  a  econo...   \n",
              "132369  eu estou muito chateado com isso gostaria que ...   \n",
              "132370  vale a pena pelo preco oferecido, qualidade a ...   \n",
              "132371  o produto anunciado no site dizia ser  100% al...   \n",
              "132372  nao recebi o produto e consta como entregue no...   \n",
              "\n",
              "                                    review_text_tokenized  polarity  rating  \\\n",
              "0       ['bem', 'macio', 'felpudo', 'recomendo', 'prec...       1.0       4   \n",
              "1       ['produto', 'excepcional', 'recomendo', 'inova...       1.0       5   \n",
              "2       ['recebi', 'produto', 'antes', 'do', 'prazo', ...       0.0       1   \n",
              "3       ['bom', 'custo', 'beneficio', 'adequado', 'par...       1.0       5   \n",
              "4       ['alem', 'de', 'higienico', 'tem', 'tamanho', ...       NaN       3   \n",
              "...                                                   ...       ...     ...   \n",
              "132368  ['smarthphone', 'perfeito', 'muito', 'bom', 'e...       1.0       5   \n",
              "132369  ['eu', 'estou', 'muito', 'chateado', 'com', 'i...       0.0       1   \n",
              "132370  ['vale', 'pena', 'pelo', 'preco', 'oferecido',...       NaN       3   \n",
              "132371  ['produto', 'anunciado', 'no', 'site', 'dizia'...       0.0       1   \n",
              "132372  ['nao', 'recebi', 'produto', 'consta', 'como',...       0.0       1   \n",
              "\n",
              "        kfold_polarity  kfold_rating  \n",
              "0                    1             1  \n",
              "1                    1             1  \n",
              "2                    1             1  \n",
              "3                    1             1  \n",
              "4                   -1             1  \n",
              "...                ...           ...  \n",
              "132368              10            10  \n",
              "132369              10            10  \n",
              "132370              -1            10  \n",
              "132371              10            10  \n",
              "132372              10            10  \n",
              "\n",
              "[132373 rows x 8 columns]"
            ]
          },
          "execution_count": 6,
          "metadata": {},
          "output_type": "execute_result"
        }
      ],
      "source": [
        "dataFeito"
      ]
    },
    {
      "cell_type": "code",
      "execution_count": 7,
      "id": "f0c85658",
      "metadata": {
        "id": "f0c85658"
      },
      "outputs": [],
      "source": [
        "import pandas as pd\n",
        "import re\n",
        "import nltk\n"
      ]
    },
    {
      "cell_type": "markdown",
      "id": "9aa0d855",
      "metadata": {
        "id": "9aa0d855"
      },
      "source": [
        "**Vamos apagar colunas**\n",
        "* Como será utilizado esse dataset para fins de estudo pessoal, irei apagar as tratações ja realizadas, com todo o processo necessário feito por mim posteriormente."
      ]
    },
    {
      "cell_type": "code",
      "execution_count": 8,
      "id": "4b945f49",
      "metadata": {
        "id": "4b945f49"
      },
      "outputs": [],
      "source": [
        "data = dataFeito[['review_text', 'rating']]"
      ]
    },
    {
      "cell_type": "markdown",
      "id": "eda755b7",
      "metadata": {
        "id": "eda755b7"
      },
      "source": [
        "**Novo dataset!!**\n",
        "* Agora sim temos um dataset gigante e com muitas coisas para realizar."
      ]
    },
    {
      "cell_type": "code",
      "execution_count": 9,
      "id": "63a6bb4f",
      "metadata": {
        "colab": {
          "base_uri": "https://localhost:8080/",
          "height": 424
        },
        "id": "63a6bb4f",
        "outputId": "681d4a50-7dff-49b0-9038-44a246490ce5"
      },
      "outputs": [
        {
          "data": {
            "text/html": [
              "<div>\n",
              "<style scoped>\n",
              "    .dataframe tbody tr th:only-of-type {\n",
              "        vertical-align: middle;\n",
              "    }\n",
              "\n",
              "    .dataframe tbody tr th {\n",
              "        vertical-align: top;\n",
              "    }\n",
              "\n",
              "    .dataframe thead th {\n",
              "        text-align: right;\n",
              "    }\n",
              "</style>\n",
              "<table border=\"1\" class=\"dataframe\">\n",
              "  <thead>\n",
              "    <tr style=\"text-align: right;\">\n",
              "      <th></th>\n",
              "      <th>review_text</th>\n",
              "      <th>rating</th>\n",
              "    </tr>\n",
              "  </thead>\n",
              "  <tbody>\n",
              "    <tr>\n",
              "      <th>0</th>\n",
              "      <td>Bem macio e felpudo...recomendo.  Preço imbatí...</td>\n",
              "      <td>4</td>\n",
              "    </tr>\n",
              "    <tr>\n",
              "      <th>1</th>\n",
              "      <td>Produto excepcional!  recomendo!!! inovador e ...</td>\n",
              "      <td>5</td>\n",
              "    </tr>\n",
              "    <tr>\n",
              "      <th>2</th>\n",
              "      <td>recebi o produto antes do prazo mas veio com d...</td>\n",
              "      <td>1</td>\n",
              "    </tr>\n",
              "    <tr>\n",
              "      <th>3</th>\n",
              "      <td>Bom custo beneficio. Adequado para pessoas que...</td>\n",
              "      <td>5</td>\n",
              "    </tr>\n",
              "    <tr>\n",
              "      <th>4</th>\n",
              "      <td>Além de higiênico tem o tamanho ideal. Só falt...</td>\n",
              "      <td>3</td>\n",
              "    </tr>\n",
              "    <tr>\n",
              "      <th>...</th>\n",
              "      <td>...</td>\n",
              "      <td>...</td>\n",
              "    </tr>\n",
              "    <tr>\n",
              "      <th>132368</th>\n",
              "      <td>SMARTHPHONE  PERFEITO  MUITO  BOM  E  A  ECONO...</td>\n",
              "      <td>5</td>\n",
              "    </tr>\n",
              "    <tr>\n",
              "      <th>132369</th>\n",
              "      <td>Eu estou muito chateado com isso gostaria que ...</td>\n",
              "      <td>1</td>\n",
              "    </tr>\n",
              "    <tr>\n",
              "      <th>132370</th>\n",
              "      <td>Vale a pena pelo preço oferecido, qualidade a ...</td>\n",
              "      <td>3</td>\n",
              "    </tr>\n",
              "    <tr>\n",
              "      <th>132371</th>\n",
              "      <td>O produto anunciado no site dizia ser  100% al...</td>\n",
              "      <td>1</td>\n",
              "    </tr>\n",
              "    <tr>\n",
              "      <th>132372</th>\n",
              "      <td>Não recebi o produto e consta como entregue no...</td>\n",
              "      <td>1</td>\n",
              "    </tr>\n",
              "  </tbody>\n",
              "</table>\n",
              "<p>132373 rows × 2 columns</p>\n",
              "</div>"
            ],
            "text/plain": [
              "                                              review_text  rating\n",
              "0       Bem macio e felpudo...recomendo.  Preço imbatí...       4\n",
              "1       Produto excepcional!  recomendo!!! inovador e ...       5\n",
              "2       recebi o produto antes do prazo mas veio com d...       1\n",
              "3       Bom custo beneficio. Adequado para pessoas que...       5\n",
              "4       Além de higiênico tem o tamanho ideal. Só falt...       3\n",
              "...                                                   ...     ...\n",
              "132368  SMARTHPHONE  PERFEITO  MUITO  BOM  E  A  ECONO...       5\n",
              "132369  Eu estou muito chateado com isso gostaria que ...       1\n",
              "132370  Vale a pena pelo preço oferecido, qualidade a ...       3\n",
              "132371  O produto anunciado no site dizia ser  100% al...       1\n",
              "132372  Não recebi o produto e consta como entregue no...       1\n",
              "\n",
              "[132373 rows x 2 columns]"
            ]
          },
          "execution_count": 9,
          "metadata": {},
          "output_type": "execute_result"
        }
      ],
      "source": [
        "data"
      ]
    },
    {
      "cell_type": "code",
      "execution_count": 10,
      "id": "fdd993d5",
      "metadata": {
        "id": "fdd993d5"
      },
      "outputs": [],
      "source": [
        "dataSemTratar = data.copy()"
      ]
    },
    {
      "cell_type": "markdown",
      "id": "66e94965",
      "metadata": {
        "id": "66e94965"
      },
      "source": [
        "**Verificando registros**\n",
        "* Irei observar se existe algum tipo de valor faltante."
      ]
    },
    {
      "cell_type": "code",
      "execution_count": 11,
      "id": "da80b0d3",
      "metadata": {
        "colab": {
          "base_uri": "https://localhost:8080/",
          "height": 147
        },
        "id": "da80b0d3",
        "outputId": "72e9de99-0286-40a6-e618-bc09ef357e33"
      },
      "outputs": [
        {
          "data": {
            "text/plain": [
              "review_text    0\n",
              "rating         0\n",
              "dtype: int64"
            ]
          },
          "execution_count": 11,
          "metadata": {},
          "output_type": "execute_result"
        }
      ],
      "source": [
        "data.isna().sum()"
      ]
    },
    {
      "cell_type": "markdown",
      "id": "972d9a3e",
      "metadata": {
        "id": "972d9a3e"
      },
      "source": [
        "**Criação de Coluna de Feedback**\n",
        "* Irei criar uma coluna que classifica o nível do comentário do produto com base exclusivamente no rating, para ajudar posteriormente as predições de nlp, com a seguinte regra de negócio:\n",
        "    * **Ratings 4 e 5:** classificados como \"positivo\" terão como valor atribuido o número 2\n",
        "    * **Ratings 1 e 2:** classificados como \"negativo\" terão como valor atribuido o número 0\n",
        "    * **Rating 3:** classificado como \"neutro\" terão como valor atribuido o número 1\n",
        "\n",
        "\n",
        "* Pois dessa forma, será mais fácil de interpretar os valores posteriormente com redes neurais\n"
      ]
    },
    {
      "cell_type": "code",
      "execution_count": 12,
      "id": "936157d6",
      "metadata": {
        "colab": {
          "base_uri": "https://localhost:8080/"
        },
        "id": "936157d6",
        "outputId": "3379ba56-c7ee-4480-afe6-056e3545ff56"
      },
      "outputs": [
        {
          "name": "stderr",
          "output_type": "stream",
          "text": [
            "C:\\Users\\sloonesz\\AppData\\Local\\Temp\\ipykernel_17900\\567943867.py:1: SettingWithCopyWarning: \n",
            "A value is trying to be set on a copy of a slice from a DataFrame.\n",
            "Try using .loc[row_indexer,col_indexer] = value instead\n",
            "\n",
            "See the caveats in the documentation: https://pandas.pydata.org/pandas-docs/stable/user_guide/indexing.html#returning-a-view-versus-a-copy\n",
            "  data['feedback'] = data['rating'].apply(lambda x: 2 if x >= 4 else (0 if x <= 2 else 1))\n"
          ]
        }
      ],
      "source": [
        "data['feedback'] = data['rating'].apply(lambda x: 2 if x >= 4 else (0 if x <= 2 else 1))\n"
      ]
    },
    {
      "cell_type": "markdown",
      "id": "c1d29332",
      "metadata": {
        "id": "c1d29332"
      },
      "source": [
        "**Vamos visualizar essa nova implementação!!**"
      ]
    },
    {
      "cell_type": "code",
      "execution_count": 13,
      "id": "3214a266",
      "metadata": {
        "colab": {
          "base_uri": "https://localhost:8080/",
          "height": 424
        },
        "id": "3214a266",
        "outputId": "2916292e-0423-445d-fa22-1515602aa818"
      },
      "outputs": [
        {
          "data": {
            "text/html": [
              "<div>\n",
              "<style scoped>\n",
              "    .dataframe tbody tr th:only-of-type {\n",
              "        vertical-align: middle;\n",
              "    }\n",
              "\n",
              "    .dataframe tbody tr th {\n",
              "        vertical-align: top;\n",
              "    }\n",
              "\n",
              "    .dataframe thead th {\n",
              "        text-align: right;\n",
              "    }\n",
              "</style>\n",
              "<table border=\"1\" class=\"dataframe\">\n",
              "  <thead>\n",
              "    <tr style=\"text-align: right;\">\n",
              "      <th></th>\n",
              "      <th>review_text</th>\n",
              "      <th>rating</th>\n",
              "      <th>feedback</th>\n",
              "    </tr>\n",
              "  </thead>\n",
              "  <tbody>\n",
              "    <tr>\n",
              "      <th>0</th>\n",
              "      <td>Bem macio e felpudo...recomendo.  Preço imbatí...</td>\n",
              "      <td>4</td>\n",
              "      <td>2</td>\n",
              "    </tr>\n",
              "    <tr>\n",
              "      <th>1</th>\n",
              "      <td>Produto excepcional!  recomendo!!! inovador e ...</td>\n",
              "      <td>5</td>\n",
              "      <td>2</td>\n",
              "    </tr>\n",
              "    <tr>\n",
              "      <th>2</th>\n",
              "      <td>recebi o produto antes do prazo mas veio com d...</td>\n",
              "      <td>1</td>\n",
              "      <td>0</td>\n",
              "    </tr>\n",
              "    <tr>\n",
              "      <th>3</th>\n",
              "      <td>Bom custo beneficio. Adequado para pessoas que...</td>\n",
              "      <td>5</td>\n",
              "      <td>2</td>\n",
              "    </tr>\n",
              "    <tr>\n",
              "      <th>4</th>\n",
              "      <td>Além de higiênico tem o tamanho ideal. Só falt...</td>\n",
              "      <td>3</td>\n",
              "      <td>1</td>\n",
              "    </tr>\n",
              "    <tr>\n",
              "      <th>...</th>\n",
              "      <td>...</td>\n",
              "      <td>...</td>\n",
              "      <td>...</td>\n",
              "    </tr>\n",
              "    <tr>\n",
              "      <th>132368</th>\n",
              "      <td>SMARTHPHONE  PERFEITO  MUITO  BOM  E  A  ECONO...</td>\n",
              "      <td>5</td>\n",
              "      <td>2</td>\n",
              "    </tr>\n",
              "    <tr>\n",
              "      <th>132369</th>\n",
              "      <td>Eu estou muito chateado com isso gostaria que ...</td>\n",
              "      <td>1</td>\n",
              "      <td>0</td>\n",
              "    </tr>\n",
              "    <tr>\n",
              "      <th>132370</th>\n",
              "      <td>Vale a pena pelo preço oferecido, qualidade a ...</td>\n",
              "      <td>3</td>\n",
              "      <td>1</td>\n",
              "    </tr>\n",
              "    <tr>\n",
              "      <th>132371</th>\n",
              "      <td>O produto anunciado no site dizia ser  100% al...</td>\n",
              "      <td>1</td>\n",
              "      <td>0</td>\n",
              "    </tr>\n",
              "    <tr>\n",
              "      <th>132372</th>\n",
              "      <td>Não recebi o produto e consta como entregue no...</td>\n",
              "      <td>1</td>\n",
              "      <td>0</td>\n",
              "    </tr>\n",
              "  </tbody>\n",
              "</table>\n",
              "<p>132373 rows × 3 columns</p>\n",
              "</div>"
            ],
            "text/plain": [
              "                                              review_text  rating  feedback\n",
              "0       Bem macio e felpudo...recomendo.  Preço imbatí...       4         2\n",
              "1       Produto excepcional!  recomendo!!! inovador e ...       5         2\n",
              "2       recebi o produto antes do prazo mas veio com d...       1         0\n",
              "3       Bom custo beneficio. Adequado para pessoas que...       5         2\n",
              "4       Além de higiênico tem o tamanho ideal. Só falt...       3         1\n",
              "...                                                   ...     ...       ...\n",
              "132368  SMARTHPHONE  PERFEITO  MUITO  BOM  E  A  ECONO...       5         2\n",
              "132369  Eu estou muito chateado com isso gostaria que ...       1         0\n",
              "132370  Vale a pena pelo preço oferecido, qualidade a ...       3         1\n",
              "132371  O produto anunciado no site dizia ser  100% al...       1         0\n",
              "132372  Não recebi o produto e consta como entregue no...       1         0\n",
              "\n",
              "[132373 rows x 3 columns]"
            ]
          },
          "execution_count": 13,
          "metadata": {},
          "output_type": "execute_result"
        }
      ],
      "source": [
        "data"
      ]
    },
    {
      "cell_type": "markdown",
      "id": "18f4cdbd",
      "metadata": {
        "id": "18f4cdbd"
      },
      "source": [
        "**Visualizando a distribuição das novas classes**\n",
        "* Antes de continuar com novas implementações, vamos ver como está distribuido a nossa coluna feedbacks, para ver que tipo de estratégias podemos seguir"
      ]
    },
    {
      "cell_type": "code",
      "execution_count": 14,
      "id": "5741a5dc",
      "metadata": {
        "colab": {
          "base_uri": "https://localhost:8080/"
        },
        "id": "5741a5dc",
        "outputId": "003617cb-0641-4d8d-84eb-9aed98edf3fa"
      },
      "outputs": [
        {
          "name": "stdout",
          "output_type": "stream",
          "text": [
            "80300\n",
            "16315\n",
            "35758\n"
          ]
        }
      ],
      "source": [
        "print(data.query('feedback == 2').shape[0])\n",
        "print(data.query('feedback == 1').shape[0])\n",
        "print(data.query('feedback == 0').shape[0])"
      ]
    },
    {
      "cell_type": "markdown",
      "id": "9055140b",
      "metadata": {
        "id": "9055140b"
      },
      "source": [
        "**Desbalanceamento claro**\n",
        "\n",
        "* Claramente, há um desbalanceamento considerável, com muito mais exemplos positivos do que negativos e, especialmente, neutros. Essa é uma situação comum em problemas de classificação do mundo real, porém, como trata-los?\n",
        "\n",
        "* É possível retirar uma amostra dos valores positivos, para que assim não fique tão distoante a quantidade de registros, com a finalidade de previnir que o modelo não fique viciado, contudo, assim, posso estar descartando dados que contém informações importantes. Por causa disso, irei deixar desse modo por enquanto, realizando maiores tratamentos/cuidados no momento que treinarei o modelo, penalizando mais fortemente erros em registros com feedback 1 ou 0, para que assim seja mantido todos os dados."
      ]
    },
    {
      "cell_type": "markdown",
      "id": "330b52ab",
      "metadata": {
        "id": "330b52ab"
      },
      "source": [
        "**Tratamento de dados textuais**\n",
        "\n",
        "* Agora irei preparar a coluna review_text para análise, aplicando técnicas de pré-processamento, seguindo estas etapas:\n",
        "\n",
        "    * **Normalização de texto:** Conversão de todo texto para minúsculas\n",
        "\n",
        "    * **Remoção de caracteres especiais:** Eliminação de símbolos, pontuações e números que geralmente não contribuem para a análise de sentimento\n",
        "\n",
        "    * **Tokenização:** Divisão do texto em unidades menores (palavras/tokens) para facilitar o processamento\n",
        "\n",
        "    * **Remoção de stopwords:** Eliminação de palavras muito comuns em português (como \"e\", \"o\", \"a\") que não carregam sentimento\n",
        "\n",
        "\n",
        "* Assim, irei reduizir a dimensionalidade dos dados e eliminarei ruídos, permitindo que o modelo se concentre nos termos mais relevantes para a classificação de sentimento, melhorando a precisão das predições em nossa rede neural.\n",
        "\n"
      ]
    },
    {
      "cell_type": "code",
      "execution_count": 15,
      "id": "30dc93a2",
      "metadata": {
        "colab": {
          "base_uri": "https://localhost:8080/"
        },
        "id": "30dc93a2",
        "outputId": "57bb7e03-d7de-4f09-fbce-f958e34f39e4"
      },
      "outputs": [
        {
          "name": "stderr",
          "output_type": "stream",
          "text": [
            "C:\\Users\\sloonesz\\AppData\\Local\\Temp\\ipykernel_17900\\3081459747.py:1: SettingWithCopyWarning: \n",
            "A value is trying to be set on a copy of a slice from a DataFrame.\n",
            "Try using .loc[row_indexer,col_indexer] = value instead\n",
            "\n",
            "See the caveats in the documentation: https://pandas.pydata.org/pandas-docs/stable/user_guide/indexing.html#returning-a-view-versus-a-copy\n",
            "  data['review_text'] = data['review_text'].str.lower()\n"
          ]
        }
      ],
      "source": [
        "data['review_text'] = data['review_text'].str.lower()"
      ]
    },
    {
      "cell_type": "markdown",
      "id": "6bc756f8",
      "metadata": {
        "id": "6bc756f8"
      },
      "source": [
        "**Tirando caracteres especiais**"
      ]
    },
    {
      "cell_type": "code",
      "execution_count": 16,
      "id": "1483342a",
      "metadata": {
        "colab": {
          "base_uri": "https://localhost:8080/"
        },
        "id": "1483342a",
        "outputId": "1e2d3a1d-5ff1-4da9-e3ee-0033628651a1"
      },
      "outputs": [
        {
          "name": "stderr",
          "output_type": "stream",
          "text": [
            "C:\\Users\\sloonesz\\AppData\\Local\\Temp\\ipykernel_17900\\3101108487.py:2: SettingWithCopyWarning: \n",
            "A value is trying to be set on a copy of a slice from a DataFrame.\n",
            "Try using .loc[row_indexer,col_indexer] = value instead\n",
            "\n",
            "See the caveats in the documentation: https://pandas.pydata.org/pandas-docs/stable/user_guide/indexing.html#returning-a-view-versus-a-copy\n",
            "  data['review_text'] = data['review_text'].apply(lambda x: re.sub(r'[^\\w\\s]|[\\d]', ' ', x))\n"
          ]
        }
      ],
      "source": [
        "# Substitui caracteres especiais e números por espaços\n",
        "data['review_text'] = data['review_text'].apply(lambda x: re.sub(r'[^\\w\\s]|[\\d]', ' ', x))\n"
      ]
    },
    {
      "cell_type": "markdown",
      "id": "f863815a",
      "metadata": {
        "id": "f863815a"
      },
      "source": [
        "**Comparação com o antigo dataset**"
      ]
    },
    {
      "cell_type": "code",
      "execution_count": 17,
      "id": "79a840ef",
      "metadata": {
        "colab": {
          "base_uri": "https://localhost:8080/",
          "height": 206
        },
        "id": "79a840ef",
        "outputId": "cbfeacfc-8e8f-4355-c802-9e86148db065"
      },
      "outputs": [
        {
          "data": {
            "text/html": [
              "<div>\n",
              "<style scoped>\n",
              "    .dataframe tbody tr th:only-of-type {\n",
              "        vertical-align: middle;\n",
              "    }\n",
              "\n",
              "    .dataframe tbody tr th {\n",
              "        vertical-align: top;\n",
              "    }\n",
              "\n",
              "    .dataframe thead th {\n",
              "        text-align: right;\n",
              "    }\n",
              "</style>\n",
              "<table border=\"1\" class=\"dataframe\">\n",
              "  <thead>\n",
              "    <tr style=\"text-align: right;\">\n",
              "      <th></th>\n",
              "      <th>review_text</th>\n",
              "      <th>rating</th>\n",
              "      <th>feedback</th>\n",
              "    </tr>\n",
              "  </thead>\n",
              "  <tbody>\n",
              "    <tr>\n",
              "      <th>0</th>\n",
              "      <td>bem macio e felpudo   recomendo   preço imbatí...</td>\n",
              "      <td>4</td>\n",
              "      <td>2</td>\n",
              "    </tr>\n",
              "    <tr>\n",
              "      <th>1</th>\n",
              "      <td>produto excepcional   recomendo    inovador e ...</td>\n",
              "      <td>5</td>\n",
              "      <td>2</td>\n",
              "    </tr>\n",
              "    <tr>\n",
              "      <th>2</th>\n",
              "      <td>recebi o produto antes do prazo mas veio com d...</td>\n",
              "      <td>1</td>\n",
              "      <td>0</td>\n",
              "    </tr>\n",
              "    <tr>\n",
              "      <th>3</th>\n",
              "      <td>bom custo beneficio  adequado para pessoas que...</td>\n",
              "      <td>5</td>\n",
              "      <td>2</td>\n",
              "    </tr>\n",
              "    <tr>\n",
              "      <th>4</th>\n",
              "      <td>além de higiênico tem o tamanho ideal  só falt...</td>\n",
              "      <td>3</td>\n",
              "      <td>1</td>\n",
              "    </tr>\n",
              "  </tbody>\n",
              "</table>\n",
              "</div>"
            ],
            "text/plain": [
              "                                         review_text  rating  feedback\n",
              "0  bem macio e felpudo   recomendo   preço imbatí...       4         2\n",
              "1  produto excepcional   recomendo    inovador e ...       5         2\n",
              "2  recebi o produto antes do prazo mas veio com d...       1         0\n",
              "3  bom custo beneficio  adequado para pessoas que...       5         2\n",
              "4  além de higiênico tem o tamanho ideal  só falt...       3         1"
            ]
          },
          "execution_count": 17,
          "metadata": {},
          "output_type": "execute_result"
        }
      ],
      "source": [
        "data.head(5)"
      ]
    },
    {
      "cell_type": "code",
      "execution_count": 18,
      "id": "954071a4",
      "metadata": {
        "colab": {
          "base_uri": "https://localhost:8080/",
          "height": 424
        },
        "id": "954071a4",
        "outputId": "ce2c7e1a-8fa4-407a-93e0-8bfe3a2743b7"
      },
      "outputs": [
        {
          "data": {
            "text/html": [
              "<div>\n",
              "<style scoped>\n",
              "    .dataframe tbody tr th:only-of-type {\n",
              "        vertical-align: middle;\n",
              "    }\n",
              "\n",
              "    .dataframe tbody tr th {\n",
              "        vertical-align: top;\n",
              "    }\n",
              "\n",
              "    .dataframe thead th {\n",
              "        text-align: right;\n",
              "    }\n",
              "</style>\n",
              "<table border=\"1\" class=\"dataframe\">\n",
              "  <thead>\n",
              "    <tr style=\"text-align: right;\">\n",
              "      <th></th>\n",
              "      <th>review_text</th>\n",
              "      <th>rating</th>\n",
              "    </tr>\n",
              "  </thead>\n",
              "  <tbody>\n",
              "    <tr>\n",
              "      <th>0</th>\n",
              "      <td>Bem macio e felpudo...recomendo.  Preço imbatí...</td>\n",
              "      <td>4</td>\n",
              "    </tr>\n",
              "    <tr>\n",
              "      <th>1</th>\n",
              "      <td>Produto excepcional!  recomendo!!! inovador e ...</td>\n",
              "      <td>5</td>\n",
              "    </tr>\n",
              "    <tr>\n",
              "      <th>2</th>\n",
              "      <td>recebi o produto antes do prazo mas veio com d...</td>\n",
              "      <td>1</td>\n",
              "    </tr>\n",
              "    <tr>\n",
              "      <th>3</th>\n",
              "      <td>Bom custo beneficio. Adequado para pessoas que...</td>\n",
              "      <td>5</td>\n",
              "    </tr>\n",
              "    <tr>\n",
              "      <th>4</th>\n",
              "      <td>Além de higiênico tem o tamanho ideal. Só falt...</td>\n",
              "      <td>3</td>\n",
              "    </tr>\n",
              "    <tr>\n",
              "      <th>...</th>\n",
              "      <td>...</td>\n",
              "      <td>...</td>\n",
              "    </tr>\n",
              "    <tr>\n",
              "      <th>132368</th>\n",
              "      <td>SMARTHPHONE  PERFEITO  MUITO  BOM  E  A  ECONO...</td>\n",
              "      <td>5</td>\n",
              "    </tr>\n",
              "    <tr>\n",
              "      <th>132369</th>\n",
              "      <td>Eu estou muito chateado com isso gostaria que ...</td>\n",
              "      <td>1</td>\n",
              "    </tr>\n",
              "    <tr>\n",
              "      <th>132370</th>\n",
              "      <td>Vale a pena pelo preço oferecido, qualidade a ...</td>\n",
              "      <td>3</td>\n",
              "    </tr>\n",
              "    <tr>\n",
              "      <th>132371</th>\n",
              "      <td>O produto anunciado no site dizia ser  100% al...</td>\n",
              "      <td>1</td>\n",
              "    </tr>\n",
              "    <tr>\n",
              "      <th>132372</th>\n",
              "      <td>Não recebi o produto e consta como entregue no...</td>\n",
              "      <td>1</td>\n",
              "    </tr>\n",
              "  </tbody>\n",
              "</table>\n",
              "<p>132373 rows × 2 columns</p>\n",
              "</div>"
            ],
            "text/plain": [
              "                                              review_text  rating\n",
              "0       Bem macio e felpudo...recomendo.  Preço imbatí...       4\n",
              "1       Produto excepcional!  recomendo!!! inovador e ...       5\n",
              "2       recebi o produto antes do prazo mas veio com d...       1\n",
              "3       Bom custo beneficio. Adequado para pessoas que...       5\n",
              "4       Além de higiênico tem o tamanho ideal. Só falt...       3\n",
              "...                                                   ...     ...\n",
              "132368  SMARTHPHONE  PERFEITO  MUITO  BOM  E  A  ECONO...       5\n",
              "132369  Eu estou muito chateado com isso gostaria que ...       1\n",
              "132370  Vale a pena pelo preço oferecido, qualidade a ...       3\n",
              "132371  O produto anunciado no site dizia ser  100% al...       1\n",
              "132372  Não recebi o produto e consta como entregue no...       1\n",
              "\n",
              "[132373 rows x 2 columns]"
            ]
          },
          "execution_count": 18,
          "metadata": {},
          "output_type": "execute_result"
        }
      ],
      "source": [
        "dataSemTratar"
      ]
    },
    {
      "cell_type": "markdown",
      "id": "0646c2ea",
      "metadata": {
        "id": "0646c2ea"
      },
      "source": [
        "**Realizando a tokentização**"
      ]
    },
    {
      "cell_type": "code",
      "execution_count": 19,
      "id": "c6d71778",
      "metadata": {
        "id": "c6d71778"
      },
      "outputs": [],
      "source": [
        "import nltk\n",
        "\n",
        "def tokentizacao(dataframe, texto, lower = True):\n",
        "    tokentizacao = nltk.tokenize.WordPunctTokenizer()\n",
        "    all_words = ' '.join([ text.lower() if lower else text for text in dataframe[texto] ])\n",
        "    return tokentizacao.tokenize(all_words)"
      ]
    },
    {
      "cell_type": "code",
      "execution_count": 20,
      "id": "2da516c4",
      "metadata": {
        "id": "2da516c4"
      },
      "outputs": [],
      "source": [
        "token = tokentizacao(data, \"review_text\")\n",
        "freq = nltk.FreqDist(token)\n",
        "freq = pd.DataFrame({\n",
        "    \"palavra\": list(freq.keys()),\n",
        "    \"frequencia\": list(freq.values())\n",
        "})\n"
      ]
    },
    {
      "cell_type": "code",
      "execution_count": 21,
      "id": "444470bb",
      "metadata": {
        "colab": {
          "base_uri": "https://localhost:8080/",
          "height": 363
        },
        "id": "444470bb",
        "outputId": "23cdb4ed-bbbf-429a-dce3-0e630570952c"
      },
      "outputs": [
        {
          "data": {
            "text/html": [
              "<div>\n",
              "<style scoped>\n",
              "    .dataframe tbody tr th:only-of-type {\n",
              "        vertical-align: middle;\n",
              "    }\n",
              "\n",
              "    .dataframe tbody tr th {\n",
              "        vertical-align: top;\n",
              "    }\n",
              "\n",
              "    .dataframe thead th {\n",
              "        text-align: right;\n",
              "    }\n",
              "</style>\n",
              "<table border=\"1\" class=\"dataframe\">\n",
              "  <thead>\n",
              "    <tr style=\"text-align: right;\">\n",
              "      <th></th>\n",
              "      <th>palavra</th>\n",
              "      <th>frequencia</th>\n",
              "    </tr>\n",
              "  </thead>\n",
              "  <tbody>\n",
              "    <tr>\n",
              "      <th>0</th>\n",
              "      <td>bem</td>\n",
              "      <td>17357</td>\n",
              "    </tr>\n",
              "    <tr>\n",
              "      <th>1</th>\n",
              "      <td>macio</td>\n",
              "      <td>525</td>\n",
              "    </tr>\n",
              "    <tr>\n",
              "      <th>2</th>\n",
              "      <td>e</td>\n",
              "      <td>109182</td>\n",
              "    </tr>\n",
              "    <tr>\n",
              "      <th>3</th>\n",
              "      <td>felpudo</td>\n",
              "      <td>32</td>\n",
              "    </tr>\n",
              "    <tr>\n",
              "      <th>4</th>\n",
              "      <td>recomendo</td>\n",
              "      <td>25218</td>\n",
              "    </tr>\n",
              "    <tr>\n",
              "      <th>5</th>\n",
              "      <td>preço</td>\n",
              "      <td>6502</td>\n",
              "    </tr>\n",
              "    <tr>\n",
              "      <th>6</th>\n",
              "      <td>imbatível</td>\n",
              "      <td>33</td>\n",
              "    </tr>\n",
              "    <tr>\n",
              "      <th>7</th>\n",
              "      <td>entrega</td>\n",
              "      <td>24129</td>\n",
              "    </tr>\n",
              "    <tr>\n",
              "      <th>8</th>\n",
              "      <td>rápida</td>\n",
              "      <td>7026</td>\n",
              "    </tr>\n",
              "    <tr>\n",
              "      <th>9</th>\n",
              "      <td>compraria</td>\n",
              "      <td>493</td>\n",
              "    </tr>\n",
              "  </tbody>\n",
              "</table>\n",
              "</div>"
            ],
            "text/plain": [
              "     palavra  frequencia\n",
              "0        bem       17357\n",
              "1      macio         525\n",
              "2          e      109182\n",
              "3    felpudo          32\n",
              "4  recomendo       25218\n",
              "5      preço        6502\n",
              "6  imbatível          33\n",
              "7    entrega       24129\n",
              "8     rápida        7026\n",
              "9  compraria         493"
            ]
          },
          "execution_count": 21,
          "metadata": {},
          "output_type": "execute_result"
        }
      ],
      "source": [
        "freq.head(10)"
      ]
    },
    {
      "cell_type": "code",
      "execution_count": 22,
      "id": "NnOpx63ybZr3",
      "metadata": {
        "colab": {
          "base_uri": "https://localhost:8080/"
        },
        "id": "NnOpx63ybZr3",
        "outputId": "035e7d8a-bb03-43bb-de98-f5c0f7e01dd9"
      },
      "outputs": [
        {
          "name": "stdout",
          "output_type": "stream",
          "text": [
            "Requirement already satisfied: unidecode in c:\\users\\sloonesz\\anaconda3\\lib\\site-packages (1.3.8)\n",
            "Note: you may need to restart the kernel to use updated packages.\n"
          ]
        }
      ],
      "source": [
        "pip install unidecode"
      ]
    },
    {
      "cell_type": "markdown",
      "id": "32a3797b",
      "metadata": {
        "id": "32a3797b"
      },
      "source": [
        "**Pegando stopwords da biblioteca unicode**"
      ]
    },
    {
      "cell_type": "code",
      "execution_count": 23,
      "id": "a69734fa",
      "metadata": {
        "colab": {
          "base_uri": "https://localhost:8080/"
        },
        "id": "a69734fa",
        "outputId": "f93e669a-e0d1-46cb-f86c-4ce0de16a745"
      },
      "outputs": [
        {
          "name": "stderr",
          "output_type": "stream",
          "text": [
            "[nltk_data] Downloading package stopwords to\n",
            "[nltk_data]     C:\\Users\\sloonesz\\AppData\\Roaming\\nltk_data...\n",
            "[nltk_data]   Package stopwords is already up-to-date!\n"
          ]
        }
      ],
      "source": [
        "import unidecode\n",
        "nltk.download('stopwords')\n",
        "stopwords = list(set([ unidecode.unidecode(stopword) for stopword in nltk.corpus.stopwords.words(\"portuguese\")]))"
      ]
    },
    {
      "cell_type": "markdown",
      "id": "ae53981d",
      "metadata": {
        "id": "ae53981d"
      },
      "source": [
        "**Removendo Stopwords para Redução de Ruído**\n",
        "* O objetivo de removê-las é reduzir o ruído e a dimensionalidade dos dados. Isso ajuda o modelo a focar sua atenção nas palavras que realmente contêm informação e sentimento, potencialmente melhorando a precisão e a eficiência do treinamento."
      ]
    },
    {
      "cell_type": "code",
      "execution_count": 24,
      "id": "a312391d",
      "metadata": {
        "id": "a312391d"
      },
      "outputs": [],
      "source": [
        "def remover_stopwords(texto, lista_stopwords):\n",
        "    if not isinstance(texto, str):\n",
        "        return \"\"\n",
        "\n",
        "    # Tokenizar o texto (dividir em palavras)\n",
        "    palavras = texto.split()\n",
        "\n",
        "    # Filtrar palavras que não são stopwords\n",
        "    palavras_filtradas = [palavra for palavra in palavras if unidecode.unidecode(palavra) not in lista_stopwords]\n",
        "\n",
        "    # Rejuntar as palavras em um texto\n",
        "    return \" \".join(palavras_filtradas)\n",
        "\n",
        "\n"
      ]
    },
    {
      "cell_type": "markdown",
      "id": "2RifwWYOccnR",
      "metadata": {
        "id": "2RifwWYOccnR"
      },
      "source": [
        "**Aplicando a função na coluna review_text!!**"
      ]
    },
    {
      "cell_type": "code",
      "execution_count": 25,
      "id": "1f0e4617",
      "metadata": {
        "id": "1f0e4617"
      },
      "outputs": [],
      "source": [
        "dataSemStopWords = data.copy()\n",
        "dataSemStopWords['review_text'] = dataSemStopWords['review_text'].apply(lambda x: remover_stopwords(x, stopwords))\n"
      ]
    },
    {
      "cell_type": "code",
      "execution_count": 26,
      "id": "af3ee83f",
      "metadata": {
        "colab": {
          "base_uri": "https://localhost:8080/",
          "height": 206
        },
        "id": "af3ee83f",
        "outputId": "13219ef6-f6c3-4b16-8f46-cf03bb934559"
      },
      "outputs": [
        {
          "data": {
            "text/html": [
              "<div>\n",
              "<style scoped>\n",
              "    .dataframe tbody tr th:only-of-type {\n",
              "        vertical-align: middle;\n",
              "    }\n",
              "\n",
              "    .dataframe tbody tr th {\n",
              "        vertical-align: top;\n",
              "    }\n",
              "\n",
              "    .dataframe thead th {\n",
              "        text-align: right;\n",
              "    }\n",
              "</style>\n",
              "<table border=\"1\" class=\"dataframe\">\n",
              "  <thead>\n",
              "    <tr style=\"text-align: right;\">\n",
              "      <th></th>\n",
              "      <th>review_text</th>\n",
              "      <th>rating</th>\n",
              "      <th>feedback</th>\n",
              "    </tr>\n",
              "  </thead>\n",
              "  <tbody>\n",
              "    <tr>\n",
              "      <th>0</th>\n",
              "      <td>bem macio felpudo recomendo preço imbatível en...</td>\n",
              "      <td>4</td>\n",
              "      <td>2</td>\n",
              "    </tr>\n",
              "    <tr>\n",
              "      <th>1</th>\n",
              "      <td>produto excepcional recomendo inovador gostoso...</td>\n",
              "      <td>5</td>\n",
              "      <td>2</td>\n",
              "    </tr>\n",
              "    <tr>\n",
              "      <th>2</th>\n",
              "      <td>recebi produto antes prazo veio defeito trava ...</td>\n",
              "      <td>1</td>\n",
              "      <td>0</td>\n",
              "    </tr>\n",
              "    <tr>\n",
              "      <th>3</th>\n",
              "      <td>bom custo beneficio adequado pessoas fazem uso...</td>\n",
              "      <td>5</td>\n",
              "      <td>2</td>\n",
              "    </tr>\n",
              "    <tr>\n",
              "      <th>4</th>\n",
              "      <td>além higiênico tamanho ideal faltou colher gar...</td>\n",
              "      <td>3</td>\n",
              "      <td>1</td>\n",
              "    </tr>\n",
              "  </tbody>\n",
              "</table>\n",
              "</div>"
            ],
            "text/plain": [
              "                                         review_text  rating  feedback\n",
              "0  bem macio felpudo recomendo preço imbatível en...       4         2\n",
              "1  produto excepcional recomendo inovador gostoso...       5         2\n",
              "2  recebi produto antes prazo veio defeito trava ...       1         0\n",
              "3  bom custo beneficio adequado pessoas fazem uso...       5         2\n",
              "4  além higiênico tamanho ideal faltou colher gar...       3         1"
            ]
          },
          "execution_count": 26,
          "metadata": {},
          "output_type": "execute_result"
        }
      ],
      "source": [
        "dataSemStopWords.head(5)"
      ]
    },
    {
      "cell_type": "code",
      "execution_count": 27,
      "id": "3fb8fa64",
      "metadata": {
        "id": "3fb8fa64"
      },
      "outputs": [],
      "source": [
        "import spacy"
      ]
    },
    {
      "cell_type": "code",
      "execution_count": 28,
      "id": "7cf305e6",
      "metadata": {
        "colab": {
          "base_uri": "https://localhost:8080/"
        },
        "id": "7cf305e6",
        "outputId": "05c7e845-deaa-4800-98e8-0a22d45ac577"
      },
      "outputs": [
        {
          "name": "stdout",
          "output_type": "stream",
          "text": [
            "Collecting pt-core-news-sm==3.8.0\n",
            "  Downloading https://github.com/explosion/spacy-models/releases/download/pt_core_news_sm-3.8.0/pt_core_news_sm-3.8.0-py3-none-any.whl (13.0 MB)\n",
            "     ---------------------------------------- 0.0/13.0 MB ? eta -:--:--\n",
            "     ------------------------------ -------- 10.2/13.0 MB 57.9 MB/s eta 0:00:01\n",
            "     --------------------------------------- 13.0/13.0 MB 38.8 MB/s eta 0:00:00\n",
            "\u001b[38;5;2m✔ Download and installation successful\u001b[0m\n",
            "You can now load the package via spacy.load('pt_core_news_sm')\n"
          ]
        }
      ],
      "source": [
        "!python -m spacy download pt_core_news_sm"
      ]
    },
    {
      "cell_type": "markdown",
      "id": "9-ZTfLmpct-z",
      "metadata": {
        "id": "9-ZTfLmpct-z"
      },
      "source": [
        "**Lematização: Reduzindo Palavras à sua Forma Base**\n",
        "\n",
        "* Após a limpeza de stopwords, o próximo passo na normalização do texto é a lematização. É um tipo de processo linguístico que reduz as diferentes flexões de uma palavra (como gênero, número e tempo verbal) à sua forma fundamental, conhecida como \"lema\".\n",
        "\n",
        "* Usarei o Spacy para implementar essa funcionalidade, que ajuda na normalização das palavras"
      ]
    },
    {
      "cell_type": "code",
      "execution_count": 29,
      "id": "3b76204c",
      "metadata": {
        "id": "3b76204c"
      },
      "outputs": [],
      "source": [
        "nlp = spacy.load('pt_core_news_sm')\n",
        "\n",
        "def lematizar_texto(texto):\n",
        "    if not isinstance(texto, str):\n",
        "        return \"\"\n",
        "    doc = nlp(texto)\n",
        "    lemas = [token.lemma_ for token in doc]\n",
        "    return \" \".join(lemas)\n"
      ]
    },
    {
      "cell_type": "markdown",
      "id": "LBn81zGNc8cQ",
      "metadata": {
        "id": "LBn81zGNc8cQ"
      },
      "source": [
        "**Criando uma cópia do dataframe e aplicar a lematização**"
      ]
    },
    {
      "cell_type": "code",
      "execution_count": 30,
      "id": "33b4c2a8",
      "metadata": {
        "colab": {
          "base_uri": "https://localhost:8080/",
          "height": 143
        },
        "id": "33b4c2a8",
        "outputId": "556e813b-0b06-4db4-db48-a866f6c24933"
      },
      "outputs": [],
      "source": [
        "dataSemStopWords['texto_lematizado'] = dataSemStopWords['review_text'].apply(lematizar_texto)\n"
      ]
    },
    {
      "cell_type": "code",
      "execution_count": 31,
      "id": "8bd17f3d",
      "metadata": {
        "colab": {
          "base_uri": "https://localhost:8080/",
          "height": 677
        },
        "id": "8bd17f3d",
        "outputId": "c9e77ac0-282c-42fd-faf5-df56399a200c"
      },
      "outputs": [
        {
          "data": {
            "text/html": [
              "<div>\n",
              "<style scoped>\n",
              "    .dataframe tbody tr th:only-of-type {\n",
              "        vertical-align: middle;\n",
              "    }\n",
              "\n",
              "    .dataframe tbody tr th {\n",
              "        vertical-align: top;\n",
              "    }\n",
              "\n",
              "    .dataframe thead th {\n",
              "        text-align: right;\n",
              "    }\n",
              "</style>\n",
              "<table border=\"1\" class=\"dataframe\">\n",
              "  <thead>\n",
              "    <tr style=\"text-align: right;\">\n",
              "      <th></th>\n",
              "      <th>review_text</th>\n",
              "      <th>rating</th>\n",
              "      <th>feedback</th>\n",
              "      <th>texto_lematizado</th>\n",
              "    </tr>\n",
              "  </thead>\n",
              "  <tbody>\n",
              "    <tr>\n",
              "      <th>0</th>\n",
              "      <td>bem macio felpudo recomendo preço imbatível en...</td>\n",
              "      <td>4</td>\n",
              "      <td>2</td>\n",
              "      <td>bem macio felpudo recomendo preço imbatível en...</td>\n",
              "    </tr>\n",
              "    <tr>\n",
              "      <th>1</th>\n",
              "      <td>produto excepcional recomendo inovador gostoso...</td>\n",
              "      <td>5</td>\n",
              "      <td>2</td>\n",
              "      <td>produto excepcional recomendo inovador gostoso...</td>\n",
              "    </tr>\n",
              "    <tr>\n",
              "      <th>2</th>\n",
              "      <td>recebi produto antes prazo veio defeito trava ...</td>\n",
              "      <td>1</td>\n",
              "      <td>0</td>\n",
              "      <td>recebi produto antes prazo vir defeito trar us...</td>\n",
              "    </tr>\n",
              "    <tr>\n",
              "      <th>3</th>\n",
              "      <td>bom custo beneficio adequado pessoas fazem uso...</td>\n",
              "      <td>5</td>\n",
              "      <td>2</td>\n",
              "      <td>bom custo beneficio adequado pessoa fazer uso ...</td>\n",
              "    </tr>\n",
              "    <tr>\n",
              "      <th>4</th>\n",
              "      <td>além higiênico tamanho ideal faltou colher gar...</td>\n",
              "      <td>3</td>\n",
              "      <td>1</td>\n",
              "      <td>além higiênico tamanho ideal faltar colher gar...</td>\n",
              "    </tr>\n",
              "    <tr>\n",
              "      <th>5</th>\n",
              "      <td>ótmo produto atendeu expectativas entrega ocor...</td>\n",
              "      <td>4</td>\n",
              "      <td>2</td>\n",
              "      <td>ótmo produto atender expectativa entregar ocor...</td>\n",
              "    </tr>\n",
              "    <tr>\n",
              "      <th>6</th>\n",
              "      <td>gostei produto ótima qualidade facilita aplica...</td>\n",
              "      <td>4</td>\n",
              "      <td>2</td>\n",
              "      <td>gostar produto ótima qualidade facilitar aplic...</td>\n",
              "    </tr>\n",
              "    <tr>\n",
              "      <th>7</th>\n",
              "      <td>adorei entrega prazo produto conforme esperava...</td>\n",
              "      <td>5</td>\n",
              "      <td>2</td>\n",
              "      <td>adorar entrega prazo produto conforme esperar ...</td>\n",
              "    </tr>\n",
              "    <tr>\n",
              "      <th>8</th>\n",
              "      <td>segundo processador deste modelo compro primei...</td>\n",
              "      <td>5</td>\n",
              "      <td>2</td>\n",
              "      <td>segundo processador de este modelo compro prim...</td>\n",
              "    </tr>\n",
              "    <tr>\n",
              "      <th>9</th>\n",
              "      <td>recebi endereço entrega rua augusto hog casa j...</td>\n",
              "      <td>4</td>\n",
              "      <td>2</td>\n",
              "      <td>recebi endereço entregar rua augusto hog casa ...</td>\n",
              "    </tr>\n",
              "    <tr>\n",
              "      <th>10</th>\n",
              "      <td>compra produto pois veio botões travados tenta...</td>\n",
              "      <td>1</td>\n",
              "      <td>0</td>\n",
              "      <td>compra produto pois vir botão travar tentar li...</td>\n",
              "    </tr>\n",
              "    <tr>\n",
              "      <th>11</th>\n",
              "      <td>adorei smartphone excelente acabamento veloz i...</td>\n",
              "      <td>5</td>\n",
              "      <td>2</td>\n",
              "      <td>adorar smartphone excelente acabamento veloz i...</td>\n",
              "    </tr>\n",
              "    <tr>\n",
              "      <th>12</th>\n",
              "      <td>azar pois produto ligou entregar fornecedor</td>\n",
              "      <td>1</td>\n",
              "      <td>0</td>\n",
              "      <td>azar pois produto ligar entregar fornecedor</td>\n",
              "    </tr>\n",
              "    <tr>\n",
              "      <th>13</th>\n",
              "      <td>enganação esperei quase mês cancelaram pedido ...</td>\n",
              "      <td>1</td>\n",
              "      <td>0</td>\n",
              "      <td>enganação esperei quase mês cancelar pedir pro...</td>\n",
              "    </tr>\n",
              "    <tr>\n",
              "      <th>14</th>\n",
              "      <td>ué entendi procurando recomendações respeito p...</td>\n",
              "      <td>3</td>\n",
              "      <td>1</td>\n",
              "      <td>ué entendi procurar recomendação respeito Pipo...</td>\n",
              "    </tr>\n",
              "    <tr>\n",
              "      <th>15</th>\n",
              "      <td>produto chegou antes prazo estimado ótimo prod...</td>\n",
              "      <td>5</td>\n",
              "      <td>2</td>\n",
              "      <td>produto chegar antes prazo estimar bom produto...</td>\n",
              "    </tr>\n",
              "    <tr>\n",
              "      <th>16</th>\n",
              "      <td>produto excelente atingiu expectativas recomen...</td>\n",
              "      <td>4</td>\n",
              "      <td>2</td>\n",
              "      <td>produto excelente atingir expectativa recomend...</td>\n",
              "    </tr>\n",
              "    <tr>\n",
              "      <th>17</th>\n",
              "      <td>lindo relógio entrega super rápida satisfeita ...</td>\n",
              "      <td>5</td>\n",
              "      <td>2</td>\n",
              "      <td>lir relógio entregar super rápido satisfeito c...</td>\n",
              "    </tr>\n",
              "    <tr>\n",
              "      <th>18</th>\n",
              "      <td>atendeu expectativas funcionou perfeitamente r...</td>\n",
              "      <td>4</td>\n",
              "      <td>2</td>\n",
              "      <td>atender expectativa funcionar perfeitamente re...</td>\n",
              "    </tr>\n",
              "    <tr>\n",
              "      <th>19</th>\n",
              "      <td>recomendo compra cartuchos hp outros produtos ...</td>\n",
              "      <td>4</td>\n",
              "      <td>2</td>\n",
              "      <td>recomendar comprar cartucho hp outro produto s...</td>\n",
              "    </tr>\n",
              "  </tbody>\n",
              "</table>\n",
              "</div>"
            ],
            "text/plain": [
              "                                          review_text  rating  feedback  \\\n",
              "0   bem macio felpudo recomendo preço imbatível en...       4         2   \n",
              "1   produto excepcional recomendo inovador gostoso...       5         2   \n",
              "2   recebi produto antes prazo veio defeito trava ...       1         0   \n",
              "3   bom custo beneficio adequado pessoas fazem uso...       5         2   \n",
              "4   além higiênico tamanho ideal faltou colher gar...       3         1   \n",
              "5   ótmo produto atendeu expectativas entrega ocor...       4         2   \n",
              "6   gostei produto ótima qualidade facilita aplica...       4         2   \n",
              "7   adorei entrega prazo produto conforme esperava...       5         2   \n",
              "8   segundo processador deste modelo compro primei...       5         2   \n",
              "9   recebi endereço entrega rua augusto hog casa j...       4         2   \n",
              "10  compra produto pois veio botões travados tenta...       1         0   \n",
              "11  adorei smartphone excelente acabamento veloz i...       5         2   \n",
              "12        azar pois produto ligou entregar fornecedor       1         0   \n",
              "13  enganação esperei quase mês cancelaram pedido ...       1         0   \n",
              "14  ué entendi procurando recomendações respeito p...       3         1   \n",
              "15  produto chegou antes prazo estimado ótimo prod...       5         2   \n",
              "16  produto excelente atingiu expectativas recomen...       4         2   \n",
              "17  lindo relógio entrega super rápida satisfeita ...       5         2   \n",
              "18  atendeu expectativas funcionou perfeitamente r...       4         2   \n",
              "19  recomendo compra cartuchos hp outros produtos ...       4         2   \n",
              "\n",
              "                                     texto_lematizado  \n",
              "0   bem macio felpudo recomendo preço imbatível en...  \n",
              "1   produto excepcional recomendo inovador gostoso...  \n",
              "2   recebi produto antes prazo vir defeito trar us...  \n",
              "3   bom custo beneficio adequado pessoa fazer uso ...  \n",
              "4   além higiênico tamanho ideal faltar colher gar...  \n",
              "5   ótmo produto atender expectativa entregar ocor...  \n",
              "6   gostar produto ótima qualidade facilitar aplic...  \n",
              "7   adorar entrega prazo produto conforme esperar ...  \n",
              "8   segundo processador de este modelo compro prim...  \n",
              "9   recebi endereço entregar rua augusto hog casa ...  \n",
              "10  compra produto pois vir botão travar tentar li...  \n",
              "11  adorar smartphone excelente acabamento veloz i...  \n",
              "12        azar pois produto ligar entregar fornecedor  \n",
              "13  enganação esperei quase mês cancelar pedir pro...  \n",
              "14  ué entendi procurar recomendação respeito Pipo...  \n",
              "15  produto chegar antes prazo estimar bom produto...  \n",
              "16  produto excelente atingir expectativa recomend...  \n",
              "17  lir relógio entregar super rápido satisfeito c...  \n",
              "18  atender expectativa funcionar perfeitamente re...  \n",
              "19  recomendar comprar cartucho hp outro produto s...  "
            ]
          },
          "execution_count": 31,
          "metadata": {},
          "output_type": "execute_result"
        }
      ],
      "source": [
        "dataSemStopWords.head(20)"
      ]
    },
    {
      "cell_type": "markdown",
      "id": "DdXla5_ldfs8",
      "metadata": {
        "id": "DdXla5_ldfs8"
      },
      "source": [
        "**Salvando o Dataset Pré-Processado**\n",
        "\n",
        "* Com as etapas de limpeza e normalização concluídas, irei salvar nosso progresso.\n",
        "\n",
        "* Irei usar esse dataset pré-processado como base para os próximos notebooks, onde irei explorar diferentes arquiteturas de modelos (como LSTMs, GRUs e variações do BERT) sem a necessidade de executar todo o pipeline de limpeza novamente."
      ]
    },
    {
      "cell_type": "code",
      "execution_count": 32,
      "id": "e4UPoMtgcnxX",
      "metadata": {
        "id": "e4UPoMtgcnxX"
      },
      "outputs": [],
      "source": [
        "dataSemStopWords.to_csv('../../datasets/dataSemStopWords.csv', index=False)\n"
      ]
    }
  ],
  "metadata": {
    "accelerator": "GPU",
    "colab": {
      "gpuType": "T4",
      "machine_shape": "hm",
      "provenance": []
    },
    "kernelspec": {
      "display_name": "base",
      "language": "python",
      "name": "python3"
    },
    "language_info": {
      "codemirror_mode": {
        "name": "ipython",
        "version": 3
      },
      "file_extension": ".py",
      "mimetype": "text/x-python",
      "name": "python",
      "nbconvert_exporter": "python",
      "pygments_lexer": "ipython3",
      "version": "3.12.7"
    }
  },
  "nbformat": 4,
  "nbformat_minor": 5
}
